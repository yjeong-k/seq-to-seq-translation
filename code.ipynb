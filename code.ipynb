{
  "cells": [
    {
      "cell_type": "markdown",
      "metadata": {
        "id": "4t2wNawxcWgs"
      },
      "source": [
        "## 컴퓨터언어학 과제 3\n",
        "\n",
        "### Constructing a sequence-to-sequence (encoder-decoder) model for machine translation\n",
        "\n",
        "### English --> Finnish translation\n",
        "  \n",
        "   \n",
        "  \n",
        "\n",
        "### encoder/decoder layer수, hidden dimension, teacher forcing ratio 등을 바꿔가며 11번의 trial을 해보았는데, 성능이 그렇게 좋지 않아서 선택한 언어(핀란드어)의 영향인지 알아보기 위해 다른 언어(한국어)에도 동일한 모델을 적용해보았습니다(Trial 6,7). 따라서 Data downloading과 Data processing에 한국어 데이터를 처리하는 부분이 조금 혼재되어 있는데, 한국어 처리 셀들은 맨 위에 ############ IGNORE로 표시해두었습니다. 이 부분들은 무시하셔도 괜찮습니다.\n",
        "  \n",
        "### BLEU Score는 TRIAL 9의 성능이 가장 좋았지만, Test loss와 Inference 결과는 TRIAL 11이 가장 좋았습니다. 이 둘은 모두 encoder/decoder layer 수가 1로 동일했으나 teacher forcing ratio를 각각 0.7, 0.5로 달리 학습시켰습니다."
      ]
    },
    {
      "cell_type": "markdown",
      "metadata": {
        "id": "-JkxWY2Vcbn6"
      },
      "source": [
        "### 0. Set environments"
      ]
    },
    {
      "cell_type": "code",
      "execution_count": 1,
      "metadata": {
        "id": "umWFpVDjcd0R",
        "colab": {
          "base_uri": "https://localhost:8080/"
        },
        "outputId": "ff61b451-0390-44f9-e109-bc16d54c833a"
      },
      "outputs": [
        {
          "output_type": "stream",
          "name": "stdout",
          "text": [
            "Looking in indexes: https://pypi.org/simple, https://us-python.pkg.dev/colab-wheels/public/simple/\n",
            "Collecting torchtext==0.6.0\n",
            "  Downloading torchtext-0.6.0-py3-none-any.whl (64 kB)\n",
            "\u001b[2K     \u001b[90m━━━━━━━━━━━━━━━━━━━━━━━━━━━━━━━━━━━━━━━━\u001b[0m \u001b[32m64.2/64.2 kB\u001b[0m \u001b[31m2.8 MB/s\u001b[0m eta \u001b[36m0:00:00\u001b[0m\n",
            "\u001b[?25hRequirement already satisfied: tqdm in /usr/local/lib/python3.10/dist-packages (from torchtext==0.6.0) (4.65.0)\n",
            "Requirement already satisfied: requests in /usr/local/lib/python3.10/dist-packages (from torchtext==0.6.0) (2.27.1)\n",
            "Requirement already satisfied: torch in /usr/local/lib/python3.10/dist-packages (from torchtext==0.6.0) (2.0.1+cu118)\n",
            "Requirement already satisfied: numpy in /usr/local/lib/python3.10/dist-packages (from torchtext==0.6.0) (1.22.4)\n",
            "Requirement already satisfied: six in /usr/local/lib/python3.10/dist-packages (from torchtext==0.6.0) (1.16.0)\n",
            "Collecting sentencepiece (from torchtext==0.6.0)\n",
            "  Downloading sentencepiece-0.1.99-cp310-cp310-manylinux_2_17_x86_64.manylinux2014_x86_64.whl (1.3 MB)\n",
            "\u001b[2K     \u001b[90m━━━━━━━━━━━━━━━━━━━━━━━━━━━━━━━━━━━━━━━━\u001b[0m \u001b[32m1.3/1.3 MB\u001b[0m \u001b[31m27.3 MB/s\u001b[0m eta \u001b[36m0:00:00\u001b[0m\n",
            "\u001b[?25hRequirement already satisfied: urllib3<1.27,>=1.21.1 in /usr/local/lib/python3.10/dist-packages (from requests->torchtext==0.6.0) (1.26.15)\n",
            "Requirement already satisfied: certifi>=2017.4.17 in /usr/local/lib/python3.10/dist-packages (from requests->torchtext==0.6.0) (2022.12.7)\n",
            "Requirement already satisfied: charset-normalizer~=2.0.0 in /usr/local/lib/python3.10/dist-packages (from requests->torchtext==0.6.0) (2.0.12)\n",
            "Requirement already satisfied: idna<4,>=2.5 in /usr/local/lib/python3.10/dist-packages (from requests->torchtext==0.6.0) (3.4)\n",
            "Requirement already satisfied: filelock in /usr/local/lib/python3.10/dist-packages (from torch->torchtext==0.6.0) (3.12.0)\n",
            "Requirement already satisfied: typing-extensions in /usr/local/lib/python3.10/dist-packages (from torch->torchtext==0.6.0) (4.5.0)\n",
            "Requirement already satisfied: sympy in /usr/local/lib/python3.10/dist-packages (from torch->torchtext==0.6.0) (1.11.1)\n",
            "Requirement already satisfied: networkx in /usr/local/lib/python3.10/dist-packages (from torch->torchtext==0.6.0) (3.1)\n",
            "Requirement already satisfied: jinja2 in /usr/local/lib/python3.10/dist-packages (from torch->torchtext==0.6.0) (3.1.2)\n",
            "Requirement already satisfied: triton==2.0.0 in /usr/local/lib/python3.10/dist-packages (from torch->torchtext==0.6.0) (2.0.0)\n",
            "Requirement already satisfied: cmake in /usr/local/lib/python3.10/dist-packages (from triton==2.0.0->torch->torchtext==0.6.0) (3.25.2)\n",
            "Requirement already satisfied: lit in /usr/local/lib/python3.10/dist-packages (from triton==2.0.0->torch->torchtext==0.6.0) (16.0.5)\n",
            "Requirement already satisfied: MarkupSafe>=2.0 in /usr/local/lib/python3.10/dist-packages (from jinja2->torch->torchtext==0.6.0) (2.1.2)\n",
            "Requirement already satisfied: mpmath>=0.19 in /usr/local/lib/python3.10/dist-packages (from sympy->torch->torchtext==0.6.0) (1.3.0)\n",
            "Installing collected packages: sentencepiece, torchtext\n",
            "  Attempting uninstall: torchtext\n",
            "    Found existing installation: torchtext 0.15.2\n",
            "    Uninstalling torchtext-0.15.2:\n",
            "      Successfully uninstalled torchtext-0.15.2\n",
            "Successfully installed sentencepiece-0.1.99 torchtext-0.6.0\n"
          ]
        }
      ],
      "source": [
        "import locale\n",
        "locale.getpreferredencoding = lambda: \"UTF-8\"\n",
        "\n",
        "!pip install torchtext==0.6.0\n",
        "\n",
        "import torch\n",
        "import torch.nn as nn\n",
        "import torch.optim as optim\n",
        "import torch.nn.functional as F\n",
        "import torchtext\n",
        "\n",
        "from torchtext.data import Field, BucketIterator, TabularDataset\n",
        "from torchtext.data.metrics import bleu_score\n",
        "import pandas as pd\n",
        "import re\n",
        "\n",
        "import zipfile\n",
        "\n",
        "import matplotlib.pyplot as plt\n",
        "import matplotlib.ticker as ticker\n",
        "\n",
        "import spacy\n",
        "import numpy as np\n",
        "\n",
        "import random\n",
        "import math\n",
        "import time\n",
        "\n",
        "device = torch.device('cuda' if torch.cuda.is_available() else 'cpu')"
      ]
    },
    {
      "cell_type": "code",
      "execution_count": 2,
      "metadata": {
        "id": "LrDYvCq_BG5p"
      },
      "outputs": [],
      "source": [
        "SEED = 2319\n",
        "\n",
        "random.seed(SEED)\n",
        "np.random.seed(SEED)\n",
        "torch.manual_seed(SEED)\n",
        "torch.cuda.manual_seed(SEED)\n",
        "torch.backends.cudnn.deterministic = True"
      ]
    },
    {
      "cell_type": "markdown",
      "metadata": {
        "id": "GN1sp5bwg5Gd"
      },
      "source": [
        "### 1. Data downloading"
      ]
    },
    {
      "cell_type": "code",
      "execution_count": 3,
      "metadata": {
        "colab": {
          "base_uri": "https://localhost:8080/"
        },
        "id": "xgcv4_vNQFvw",
        "outputId": "2262efb8-53e1-4ac3-9d6f-12944ae33c2e"
      },
      "outputs": [
        {
          "output_type": "stream",
          "name": "stdout",
          "text": [
            "--2023-05-26 12:30:43--  http://www.manythings.org/anki/fin-eng.zip\n",
            "Resolving www.manythings.org (www.manythings.org)... 173.254.30.110\n",
            "Connecting to www.manythings.org (www.manythings.org)|173.254.30.110|:80... connected.\n",
            "HTTP request sent, awaiting response... 200 OK\n",
            "Length: 2437292 (2.3M) [application/zip]\n",
            "Saving to: ‘fin-eng.zip’\n",
            "\n",
            "fin-eng.zip         100%[===================>]   2.32M  8.65MB/s    in 0.3s    \n",
            "\n",
            "2023-05-26 12:30:43 (8.65 MB/s) - ‘fin-eng.zip’ saved [2437292/2437292]\n",
            "\n"
          ]
        }
      ],
      "source": [
        "# English-Finnish data from http://www.manythings.org/anki/\n",
        "# consisting of 70641 sentences\n",
        "!wget http://www.manythings.org/anki/fin-eng.zip"
      ]
    },
    {
      "cell_type": "code",
      "source": [
        "############ IGNORE\n",
        "# English-Korean data from http://www.manythings.org/anki/\n",
        "# consisting of 5794 sentences\n",
        "!wget http://www.manythings.org/anki/kor-eng.zip"
      ],
      "metadata": {
        "colab": {
          "base_uri": "https://localhost:8080/"
        },
        "id": "OlkWmNHHoPDr",
        "outputId": "187a2fef-3c13-4635-a3a6-23fb9b3352b9"
      },
      "execution_count": null,
      "outputs": [
        {
          "output_type": "stream",
          "name": "stdout",
          "text": [
            "--2023-05-26 11:24:48--  http://www.manythings.org/anki/kor-eng.zip\n",
            "Resolving www.manythings.org (www.manythings.org)... 173.254.30.110\n",
            "Connecting to www.manythings.org (www.manythings.org)|173.254.30.110|:80... connected.\n",
            "HTTP request sent, awaiting response... 200 OK\n",
            "Length: 226548 (221K) [application/zip]\n",
            "Saving to: ‘kor-eng.zip’\n",
            "\n",
            "kor-eng.zip         100%[===================>] 221.24K   288KB/s    in 0.8s    \n",
            "\n",
            "2023-05-26 11:24:50 (288 KB/s) - ‘kor-eng.zip’ saved [226548/226548]\n",
            "\n"
          ]
        }
      ]
    },
    {
      "cell_type": "code",
      "execution_count": 4,
      "metadata": {
        "id": "uz2AhLhqBG5s"
      },
      "outputs": [],
      "source": [
        "# Unzip the fin-eng file\n",
        "with zipfile.ZipFile('./fin-eng.zip', 'r') as zip_ref:\n",
        "    zip_ref.extractall('./')"
      ]
    },
    {
      "cell_type": "code",
      "source": [
        "############ IGNORE\n",
        "# Unzip the fra-eng file\n",
        "with zipfile.ZipFile('./kor-eng.zip', 'r') as zip_ref:\n",
        "    zip_ref.extractall('./')"
      ],
      "metadata": {
        "id": "1OgRSqAJobQ7"
      },
      "execution_count": null,
      "outputs": []
    },
    {
      "cell_type": "markdown",
      "metadata": {
        "id": "oaItHzMPQDJg"
      },
      "source": [
        "### 2. Data Preprocessing and Data Iterators"
      ]
    },
    {
      "cell_type": "markdown",
      "metadata": {
        "id": "TVd6wjvVC8F9"
      },
      "source": [
        "The following codes are based on the following github page and lecture notes.\n",
        "https://github.com/bentrevett/pytorch-seq2seq/blob/master/4%20-%20Packed%20Padded%20Sequences%2C%20Masking%2C%20Inference%20and%20BLEU.ipynb"
      ]
    },
    {
      "cell_type": "code",
      "execution_count": 5,
      "metadata": {
        "id": "rC4jzg_VVyrX",
        "colab": {
          "base_uri": "https://localhost:8080/"
        },
        "outputId": "cb5d62d8-598d-4540-d558-30a239f95edf"
      },
      "outputs": [
        {
          "output_type": "stream",
          "name": "stdout",
          "text": [
            "2023-05-26 12:31:02.399123: W tensorflow/compiler/tf2tensorrt/utils/py_utils.cc:38] TF-TRT Warning: Could not find TensorRT\n",
            "Looking in indexes: https://pypi.org/simple, https://us-python.pkg.dev/colab-wheels/public/simple/\n",
            "Collecting fi-core-news-sm==3.5.0\n",
            "  Downloading https://github.com/explosion/spacy-models/releases/download/fi_core_news_sm-3.5.0/fi_core_news_sm-3.5.0-py3-none-any.whl (14.3 MB)\n",
            "\u001b[2K     \u001b[90m━━━━━━━━━━━━━━━━━━━━━━━━━━━━━━━━━━━━━━━━\u001b[0m \u001b[32m14.3/14.3 MB\u001b[0m \u001b[31m22.3 MB/s\u001b[0m eta \u001b[36m0:00:00\u001b[0m\n",
            "\u001b[?25hRequirement already satisfied: spacy<3.6.0,>=3.5.0 in /usr/local/lib/python3.10/dist-packages (from fi-core-news-sm==3.5.0) (3.5.2)\n",
            "Requirement already satisfied: spacy-legacy<3.1.0,>=3.0.11 in /usr/local/lib/python3.10/dist-packages (from spacy<3.6.0,>=3.5.0->fi-core-news-sm==3.5.0) (3.0.12)\n",
            "Requirement already satisfied: spacy-loggers<2.0.0,>=1.0.0 in /usr/local/lib/python3.10/dist-packages (from spacy<3.6.0,>=3.5.0->fi-core-news-sm==3.5.0) (1.0.4)\n",
            "Requirement already satisfied: murmurhash<1.1.0,>=0.28.0 in /usr/local/lib/python3.10/dist-packages (from spacy<3.6.0,>=3.5.0->fi-core-news-sm==3.5.0) (1.0.9)\n",
            "Requirement already satisfied: cymem<2.1.0,>=2.0.2 in /usr/local/lib/python3.10/dist-packages (from spacy<3.6.0,>=3.5.0->fi-core-news-sm==3.5.0) (2.0.7)\n",
            "Requirement already satisfied: preshed<3.1.0,>=3.0.2 in /usr/local/lib/python3.10/dist-packages (from spacy<3.6.0,>=3.5.0->fi-core-news-sm==3.5.0) (3.0.8)\n",
            "Requirement already satisfied: thinc<8.2.0,>=8.1.8 in /usr/local/lib/python3.10/dist-packages (from spacy<3.6.0,>=3.5.0->fi-core-news-sm==3.5.0) (8.1.9)\n",
            "Requirement already satisfied: wasabi<1.2.0,>=0.9.1 in /usr/local/lib/python3.10/dist-packages (from spacy<3.6.0,>=3.5.0->fi-core-news-sm==3.5.0) (1.1.1)\n",
            "Requirement already satisfied: srsly<3.0.0,>=2.4.3 in /usr/local/lib/python3.10/dist-packages (from spacy<3.6.0,>=3.5.0->fi-core-news-sm==3.5.0) (2.4.6)\n",
            "Requirement already satisfied: catalogue<2.1.0,>=2.0.6 in /usr/local/lib/python3.10/dist-packages (from spacy<3.6.0,>=3.5.0->fi-core-news-sm==3.5.0) (2.0.8)\n",
            "Requirement already satisfied: typer<0.8.0,>=0.3.0 in /usr/local/lib/python3.10/dist-packages (from spacy<3.6.0,>=3.5.0->fi-core-news-sm==3.5.0) (0.7.0)\n",
            "Requirement already satisfied: pathy>=0.10.0 in /usr/local/lib/python3.10/dist-packages (from spacy<3.6.0,>=3.5.0->fi-core-news-sm==3.5.0) (0.10.1)\n",
            "Requirement already satisfied: smart-open<7.0.0,>=5.2.1 in /usr/local/lib/python3.10/dist-packages (from spacy<3.6.0,>=3.5.0->fi-core-news-sm==3.5.0) (6.3.0)\n",
            "Requirement already satisfied: tqdm<5.0.0,>=4.38.0 in /usr/local/lib/python3.10/dist-packages (from spacy<3.6.0,>=3.5.0->fi-core-news-sm==3.5.0) (4.65.0)\n",
            "Requirement already satisfied: numpy>=1.15.0 in /usr/local/lib/python3.10/dist-packages (from spacy<3.6.0,>=3.5.0->fi-core-news-sm==3.5.0) (1.22.4)\n",
            "Requirement already satisfied: requests<3.0.0,>=2.13.0 in /usr/local/lib/python3.10/dist-packages (from spacy<3.6.0,>=3.5.0->fi-core-news-sm==3.5.0) (2.27.1)\n",
            "Requirement already satisfied: pydantic!=1.8,!=1.8.1,<1.11.0,>=1.7.4 in /usr/local/lib/python3.10/dist-packages (from spacy<3.6.0,>=3.5.0->fi-core-news-sm==3.5.0) (1.10.7)\n",
            "Requirement already satisfied: jinja2 in /usr/local/lib/python3.10/dist-packages (from spacy<3.6.0,>=3.5.0->fi-core-news-sm==3.5.0) (3.1.2)\n",
            "Requirement already satisfied: setuptools in /usr/local/lib/python3.10/dist-packages (from spacy<3.6.0,>=3.5.0->fi-core-news-sm==3.5.0) (67.7.2)\n",
            "Requirement already satisfied: packaging>=20.0 in /usr/local/lib/python3.10/dist-packages (from spacy<3.6.0,>=3.5.0->fi-core-news-sm==3.5.0) (23.1)\n",
            "Requirement already satisfied: langcodes<4.0.0,>=3.2.0 in /usr/local/lib/python3.10/dist-packages (from spacy<3.6.0,>=3.5.0->fi-core-news-sm==3.5.0) (3.3.0)\n",
            "Requirement already satisfied: typing-extensions>=4.2.0 in /usr/local/lib/python3.10/dist-packages (from pydantic!=1.8,!=1.8.1,<1.11.0,>=1.7.4->spacy<3.6.0,>=3.5.0->fi-core-news-sm==3.5.0) (4.5.0)\n",
            "Requirement already satisfied: urllib3<1.27,>=1.21.1 in /usr/local/lib/python3.10/dist-packages (from requests<3.0.0,>=2.13.0->spacy<3.6.0,>=3.5.0->fi-core-news-sm==3.5.0) (1.26.15)\n",
            "Requirement already satisfied: certifi>=2017.4.17 in /usr/local/lib/python3.10/dist-packages (from requests<3.0.0,>=2.13.0->spacy<3.6.0,>=3.5.0->fi-core-news-sm==3.5.0) (2022.12.7)\n",
            "Requirement already satisfied: charset-normalizer~=2.0.0 in /usr/local/lib/python3.10/dist-packages (from requests<3.0.0,>=2.13.0->spacy<3.6.0,>=3.5.0->fi-core-news-sm==3.5.0) (2.0.12)\n",
            "Requirement already satisfied: idna<4,>=2.5 in /usr/local/lib/python3.10/dist-packages (from requests<3.0.0,>=2.13.0->spacy<3.6.0,>=3.5.0->fi-core-news-sm==3.5.0) (3.4)\n",
            "Requirement already satisfied: blis<0.8.0,>=0.7.8 in /usr/local/lib/python3.10/dist-packages (from thinc<8.2.0,>=8.1.8->spacy<3.6.0,>=3.5.0->fi-core-news-sm==3.5.0) (0.7.9)\n",
            "Requirement already satisfied: confection<1.0.0,>=0.0.1 in /usr/local/lib/python3.10/dist-packages (from thinc<8.2.0,>=8.1.8->spacy<3.6.0,>=3.5.0->fi-core-news-sm==3.5.0) (0.0.4)\n",
            "Requirement already satisfied: click<9.0.0,>=7.1.1 in /usr/local/lib/python3.10/dist-packages (from typer<0.8.0,>=0.3.0->spacy<3.6.0,>=3.5.0->fi-core-news-sm==3.5.0) (8.1.3)\n",
            "Requirement already satisfied: MarkupSafe>=2.0 in /usr/local/lib/python3.10/dist-packages (from jinja2->spacy<3.6.0,>=3.5.0->fi-core-news-sm==3.5.0) (2.1.2)\n",
            "Installing collected packages: fi-core-news-sm\n",
            "Successfully installed fi-core-news-sm-3.5.0\n",
            "\u001b[38;5;2m✔ Download and installation successful\u001b[0m\n",
            "You can now load the package via spacy.load('fi_core_news_sm')\n"
          ]
        }
      ],
      "source": [
        "# Load English and Finnish spacy pipelines\n",
        "\n",
        "!python3 -m spacy download fi_core_news_sm\n",
        "\n",
        "spacy_eng = spacy.load('en_core_web_sm')\n",
        "spacy_fin = spacy.load('fi_core_news_sm') # finnish"
      ]
    },
    {
      "cell_type": "code",
      "source": [
        "############ IGNORE\n",
        "# Load English and Korean spacy pipelines\n",
        "\n",
        "!python3 -m spacy download ko_core_news_sm\n",
        "\n",
        "spacy_eng = spacy.load('en_core_web_sm')\n",
        "spacy_kor = spacy.load('ko_core_news_sm') # korean"
      ],
      "metadata": {
        "colab": {
          "base_uri": "https://localhost:8080/"
        },
        "id": "FxrToP3Pof2y",
        "outputId": "6581c909-b7f8-4b99-b6ef-126be3e2f5eb"
      },
      "execution_count": null,
      "outputs": [
        {
          "output_type": "stream",
          "name": "stdout",
          "text": [
            "2023-05-26 11:26:12.824874: W tensorflow/compiler/tf2tensorrt/utils/py_utils.cc:38] TF-TRT Warning: Could not find TensorRT\n",
            "Looking in indexes: https://pypi.org/simple, https://us-python.pkg.dev/colab-wheels/public/simple/\n",
            "Collecting ko-core-news-sm==3.5.0\n",
            "  Downloading https://github.com/explosion/spacy-models/releases/download/ko_core_news_sm-3.5.0/ko_core_news_sm-3.5.0-py3-none-any.whl (14.7 MB)\n",
            "\u001b[2K     \u001b[90m━━━━━━━━━━━━━━━━━━━━━━━━━━━━━━━━━━━━━━━━\u001b[0m \u001b[32m14.7/14.7 MB\u001b[0m \u001b[31m14.4 MB/s\u001b[0m eta \u001b[36m0:00:00\u001b[0m\n",
            "\u001b[?25hRequirement already satisfied: spacy<3.6.0,>=3.5.0 in /usr/local/lib/python3.10/dist-packages (from ko-core-news-sm==3.5.0) (3.5.2)\n",
            "Requirement already satisfied: spacy-legacy<3.1.0,>=3.0.11 in /usr/local/lib/python3.10/dist-packages (from spacy<3.6.0,>=3.5.0->ko-core-news-sm==3.5.0) (3.0.12)\n",
            "Requirement already satisfied: spacy-loggers<2.0.0,>=1.0.0 in /usr/local/lib/python3.10/dist-packages (from spacy<3.6.0,>=3.5.0->ko-core-news-sm==3.5.0) (1.0.4)\n",
            "Requirement already satisfied: murmurhash<1.1.0,>=0.28.0 in /usr/local/lib/python3.10/dist-packages (from spacy<3.6.0,>=3.5.0->ko-core-news-sm==3.5.0) (1.0.9)\n",
            "Requirement already satisfied: cymem<2.1.0,>=2.0.2 in /usr/local/lib/python3.10/dist-packages (from spacy<3.6.0,>=3.5.0->ko-core-news-sm==3.5.0) (2.0.7)\n",
            "Requirement already satisfied: preshed<3.1.0,>=3.0.2 in /usr/local/lib/python3.10/dist-packages (from spacy<3.6.0,>=3.5.0->ko-core-news-sm==3.5.0) (3.0.8)\n",
            "Requirement already satisfied: thinc<8.2.0,>=8.1.8 in /usr/local/lib/python3.10/dist-packages (from spacy<3.6.0,>=3.5.0->ko-core-news-sm==3.5.0) (8.1.9)\n",
            "Requirement already satisfied: wasabi<1.2.0,>=0.9.1 in /usr/local/lib/python3.10/dist-packages (from spacy<3.6.0,>=3.5.0->ko-core-news-sm==3.5.0) (1.1.1)\n",
            "Requirement already satisfied: srsly<3.0.0,>=2.4.3 in /usr/local/lib/python3.10/dist-packages (from spacy<3.6.0,>=3.5.0->ko-core-news-sm==3.5.0) (2.4.6)\n",
            "Requirement already satisfied: catalogue<2.1.0,>=2.0.6 in /usr/local/lib/python3.10/dist-packages (from spacy<3.6.0,>=3.5.0->ko-core-news-sm==3.5.0) (2.0.8)\n",
            "Requirement already satisfied: typer<0.8.0,>=0.3.0 in /usr/local/lib/python3.10/dist-packages (from spacy<3.6.0,>=3.5.0->ko-core-news-sm==3.5.0) (0.7.0)\n",
            "Requirement already satisfied: pathy>=0.10.0 in /usr/local/lib/python3.10/dist-packages (from spacy<3.6.0,>=3.5.0->ko-core-news-sm==3.5.0) (0.10.1)\n",
            "Requirement already satisfied: smart-open<7.0.0,>=5.2.1 in /usr/local/lib/python3.10/dist-packages (from spacy<3.6.0,>=3.5.0->ko-core-news-sm==3.5.0) (6.3.0)\n",
            "Requirement already satisfied: tqdm<5.0.0,>=4.38.0 in /usr/local/lib/python3.10/dist-packages (from spacy<3.6.0,>=3.5.0->ko-core-news-sm==3.5.0) (4.65.0)\n",
            "Requirement already satisfied: numpy>=1.15.0 in /usr/local/lib/python3.10/dist-packages (from spacy<3.6.0,>=3.5.0->ko-core-news-sm==3.5.0) (1.22.4)\n",
            "Requirement already satisfied: requests<3.0.0,>=2.13.0 in /usr/local/lib/python3.10/dist-packages (from spacy<3.6.0,>=3.5.0->ko-core-news-sm==3.5.0) (2.27.1)\n",
            "Requirement already satisfied: pydantic!=1.8,!=1.8.1,<1.11.0,>=1.7.4 in /usr/local/lib/python3.10/dist-packages (from spacy<3.6.0,>=3.5.0->ko-core-news-sm==3.5.0) (1.10.7)\n",
            "Requirement already satisfied: jinja2 in /usr/local/lib/python3.10/dist-packages (from spacy<3.6.0,>=3.5.0->ko-core-news-sm==3.5.0) (3.1.2)\n",
            "Requirement already satisfied: setuptools in /usr/local/lib/python3.10/dist-packages (from spacy<3.6.0,>=3.5.0->ko-core-news-sm==3.5.0) (67.7.2)\n",
            "Requirement already satisfied: packaging>=20.0 in /usr/local/lib/python3.10/dist-packages (from spacy<3.6.0,>=3.5.0->ko-core-news-sm==3.5.0) (23.1)\n",
            "Requirement already satisfied: langcodes<4.0.0,>=3.2.0 in /usr/local/lib/python3.10/dist-packages (from spacy<3.6.0,>=3.5.0->ko-core-news-sm==3.5.0) (3.3.0)\n",
            "Requirement already satisfied: typing-extensions>=4.2.0 in /usr/local/lib/python3.10/dist-packages (from pydantic!=1.8,!=1.8.1,<1.11.0,>=1.7.4->spacy<3.6.0,>=3.5.0->ko-core-news-sm==3.5.0) (4.5.0)\n",
            "Requirement already satisfied: urllib3<1.27,>=1.21.1 in /usr/local/lib/python3.10/dist-packages (from requests<3.0.0,>=2.13.0->spacy<3.6.0,>=3.5.0->ko-core-news-sm==3.5.0) (1.26.15)\n",
            "Requirement already satisfied: certifi>=2017.4.17 in /usr/local/lib/python3.10/dist-packages (from requests<3.0.0,>=2.13.0->spacy<3.6.0,>=3.5.0->ko-core-news-sm==3.5.0) (2022.12.7)\n",
            "Requirement already satisfied: charset-normalizer~=2.0.0 in /usr/local/lib/python3.10/dist-packages (from requests<3.0.0,>=2.13.0->spacy<3.6.0,>=3.5.0->ko-core-news-sm==3.5.0) (2.0.12)\n",
            "Requirement already satisfied: idna<4,>=2.5 in /usr/local/lib/python3.10/dist-packages (from requests<3.0.0,>=2.13.0->spacy<3.6.0,>=3.5.0->ko-core-news-sm==3.5.0) (3.4)\n",
            "Requirement already satisfied: blis<0.8.0,>=0.7.8 in /usr/local/lib/python3.10/dist-packages (from thinc<8.2.0,>=8.1.8->spacy<3.6.0,>=3.5.0->ko-core-news-sm==3.5.0) (0.7.9)\n",
            "Requirement already satisfied: confection<1.0.0,>=0.0.1 in /usr/local/lib/python3.10/dist-packages (from thinc<8.2.0,>=8.1.8->spacy<3.6.0,>=3.5.0->ko-core-news-sm==3.5.0) (0.0.4)\n",
            "Requirement already satisfied: click<9.0.0,>=7.1.1 in /usr/local/lib/python3.10/dist-packages (from typer<0.8.0,>=0.3.0->spacy<3.6.0,>=3.5.0->ko-core-news-sm==3.5.0) (8.1.3)\n",
            "Requirement already satisfied: MarkupSafe>=2.0 in /usr/local/lib/python3.10/dist-packages (from jinja2->spacy<3.6.0,>=3.5.0->ko-core-news-sm==3.5.0) (2.1.2)\n",
            "Installing collected packages: ko-core-news-sm\n",
            "Successfully installed ko-core-news-sm-3.5.0\n",
            "\u001b[38;5;2m✔ Download and installation successful\u001b[0m\n",
            "You can now load the package via spacy.load('ko_core_news_sm')\n"
          ]
        }
      ]
    },
    {
      "cell_type": "code",
      "execution_count": 6,
      "metadata": {
        "id": "eRZDGrYQBG5u"
      },
      "outputs": [],
      "source": [
        "# Define tokenizers for english and finnish texts\n",
        "\n",
        "def tokenize_eng(text):\n",
        "    tokens = []\n",
        "    for token in spacy_eng.tokenizer(text):\n",
        "        tokens.append(token.text)\n",
        "    return tokens\n",
        "\n",
        "def tokenize_fin(text):\n",
        "    tokens = []\n",
        "    for token in spacy_fin.tokenizer(text):\n",
        "        tokens.append(token.text)\n",
        "    return tokens\n",
        "\n",
        "\n",
        "############ IGNORE\n",
        "def tokenize_kor(text):\n",
        "    tokens = []\n",
        "    for token in spacy_kor.tokenizer(text):\n",
        "        tokens.append(token.text)\n",
        "    return tokens"
      ]
    },
    {
      "cell_type": "code",
      "execution_count": 7,
      "metadata": {
        "id": "gKjvgDlCBG5v"
      },
      "outputs": [],
      "source": [
        "# Define Field\n",
        "\n",
        "SRC = Field(tokenize = tokenize_eng, \n",
        "            init_token = '<sos>', \n",
        "            eos_token = '<eos>', \n",
        "            lower = True)\n",
        "\n",
        "TRG = Field(tokenize = tokenize_fin, \n",
        "            init_token = '<sos>', \n",
        "            eos_token = '<eos>', \n",
        "            lower = True)"
      ]
    },
    {
      "cell_type": "code",
      "source": [
        "############ IGNORE\n",
        "# Redefine Field for KOREAN\n",
        "\n",
        "TRG = Field(tokenize = tokenize_kor, \n",
        "            init_token = '<sos>', \n",
        "            eos_token = '<eos>', \n",
        "            lower = True)"
      ],
      "metadata": {
        "id": "iFpwUDUnpAie"
      },
      "execution_count": null,
      "outputs": []
    },
    {
      "cell_type": "code",
      "execution_count": 8,
      "metadata": {
        "id": "YkyY2DT0BG5w"
      },
      "outputs": [],
      "source": [
        "# Function to read text file and turn it into a dataframe\n",
        "\n",
        "def readFile(lang1, lang2):  # lang1(source), lang2(target)\n",
        "    \n",
        "    # Read the file and split into lines\n",
        "    lines = open('%s.txt' % (lang2), encoding='utf-8').read().strip().split('\\n')\n",
        "\n",
        "    # Split every line into pairs and make a dataframe\n",
        "    df = pd.DataFrame(columns = ['src', 'trg'])\n",
        "    for l in lines:\n",
        "      tabs = l.split('\\t')\n",
        "      df.loc[len(df)] = {'src' : tabs[0], 'trg' : tabs[1]}\n",
        "\n",
        "    return df"
      ]
    },
    {
      "cell_type": "code",
      "execution_count": 9,
      "metadata": {
        "id": "3m8uVd-rBG5x"
      },
      "outputs": [],
      "source": [
        "eng_fin = readFile('eng', 'fin')\n",
        "eng_fin.to_csv('./eng_fin.csv', index=False)"
      ]
    },
    {
      "cell_type": "code",
      "source": [
        "############ IGNORE\n",
        "eng_kor = readFile('eng', 'kor')\n",
        "eng_kor.to_csv('./eng_kor.csv', index=False)"
      ],
      "metadata": {
        "id": "jXGS_Q_8pEoo"
      },
      "execution_count": null,
      "outputs": []
    },
    {
      "cell_type": "code",
      "execution_count": null,
      "metadata": {
        "colab": {
          "base_uri": "https://localhost:8080/",
          "height": 419
        },
        "id": "DpwuTju6BG5x",
        "outputId": "2745ed34-7e11-437e-a833-b44ed493e0b3"
      },
      "outputs": [
        {
          "output_type": "execute_result",
          "data": {
            "text/plain": [
              "                                                     src  \\\n",
              "0                                                    Go.   \n",
              "1                                                    Hi.   \n",
              "2                                                    Hi.   \n",
              "3                                                   Run!   \n",
              "4                                                   Run!   \n",
              "...                                                  ...   \n",
              "70636  At a moment when our economy is growing, our b...   \n",
              "70637  The driver of an oncoming car flashed his ligh...   \n",
              "70638  If someone who doesn't know your background sa...   \n",
              "70639  It may be impossible to get a completely error...   \n",
              "70640  I know that adding sentences only in your nati...   \n",
              "\n",
              "                                                     trg  \n",
              "0                                                  Mene.  \n",
              "1                                                  Moro!  \n",
              "2                                                 Terve.  \n",
              "3                                                Juokse!  \n",
              "4                                               Juoskaa!  \n",
              "...                                                  ...  \n",
              "70636  Tällä hetkellä kun taloutemme on kasvussa, yri...  \n",
              "70637  Vastaanajavan auton kuski väläytti valojaan va...  \n",
              "70638  Jos joku, joka ei tunne taustaasi, sanoo että ...  \n",
              "70639  Saattaa olla mahdotonta saada täysin virheetön...  \n",
              "70640  Tiedän, että lauseiden lisääminen vain äidinki...  \n",
              "\n",
              "[70641 rows x 2 columns]"
            ],
            "text/html": [
              "\n",
              "  <div id=\"df-4ecbfbaf-88bd-4fa0-bd63-c2c5abef5cd3\">\n",
              "    <div class=\"colab-df-container\">\n",
              "      <div>\n",
              "<style scoped>\n",
              "    .dataframe tbody tr th:only-of-type {\n",
              "        vertical-align: middle;\n",
              "    }\n",
              "\n",
              "    .dataframe tbody tr th {\n",
              "        vertical-align: top;\n",
              "    }\n",
              "\n",
              "    .dataframe thead th {\n",
              "        text-align: right;\n",
              "    }\n",
              "</style>\n",
              "<table border=\"1\" class=\"dataframe\">\n",
              "  <thead>\n",
              "    <tr style=\"text-align: right;\">\n",
              "      <th></th>\n",
              "      <th>src</th>\n",
              "      <th>trg</th>\n",
              "    </tr>\n",
              "  </thead>\n",
              "  <tbody>\n",
              "    <tr>\n",
              "      <th>0</th>\n",
              "      <td>Go.</td>\n",
              "      <td>Mene.</td>\n",
              "    </tr>\n",
              "    <tr>\n",
              "      <th>1</th>\n",
              "      <td>Hi.</td>\n",
              "      <td>Moro!</td>\n",
              "    </tr>\n",
              "    <tr>\n",
              "      <th>2</th>\n",
              "      <td>Hi.</td>\n",
              "      <td>Terve.</td>\n",
              "    </tr>\n",
              "    <tr>\n",
              "      <th>3</th>\n",
              "      <td>Run!</td>\n",
              "      <td>Juokse!</td>\n",
              "    </tr>\n",
              "    <tr>\n",
              "      <th>4</th>\n",
              "      <td>Run!</td>\n",
              "      <td>Juoskaa!</td>\n",
              "    </tr>\n",
              "    <tr>\n",
              "      <th>...</th>\n",
              "      <td>...</td>\n",
              "      <td>...</td>\n",
              "    </tr>\n",
              "    <tr>\n",
              "      <th>70636</th>\n",
              "      <td>At a moment when our economy is growing, our b...</td>\n",
              "      <td>Tällä hetkellä kun taloutemme on kasvussa, yri...</td>\n",
              "    </tr>\n",
              "    <tr>\n",
              "      <th>70637</th>\n",
              "      <td>The driver of an oncoming car flashed his ligh...</td>\n",
              "      <td>Vastaanajavan auton kuski väläytti valojaan va...</td>\n",
              "    </tr>\n",
              "    <tr>\n",
              "      <th>70638</th>\n",
              "      <td>If someone who doesn't know your background sa...</td>\n",
              "      <td>Jos joku, joka ei tunne taustaasi, sanoo että ...</td>\n",
              "    </tr>\n",
              "    <tr>\n",
              "      <th>70639</th>\n",
              "      <td>It may be impossible to get a completely error...</td>\n",
              "      <td>Saattaa olla mahdotonta saada täysin virheetön...</td>\n",
              "    </tr>\n",
              "    <tr>\n",
              "      <th>70640</th>\n",
              "      <td>I know that adding sentences only in your nati...</td>\n",
              "      <td>Tiedän, että lauseiden lisääminen vain äidinki...</td>\n",
              "    </tr>\n",
              "  </tbody>\n",
              "</table>\n",
              "<p>70641 rows × 2 columns</p>\n",
              "</div>\n",
              "      <button class=\"colab-df-convert\" onclick=\"convertToInteractive('df-4ecbfbaf-88bd-4fa0-bd63-c2c5abef5cd3')\"\n",
              "              title=\"Convert this dataframe to an interactive table.\"\n",
              "              style=\"display:none;\">\n",
              "        \n",
              "  <svg xmlns=\"http://www.w3.org/2000/svg\" height=\"24px\"viewBox=\"0 0 24 24\"\n",
              "       width=\"24px\">\n",
              "    <path d=\"M0 0h24v24H0V0z\" fill=\"none\"/>\n",
              "    <path d=\"M18.56 5.44l.94 2.06.94-2.06 2.06-.94-2.06-.94-.94-2.06-.94 2.06-2.06.94zm-11 1L8.5 8.5l.94-2.06 2.06-.94-2.06-.94L8.5 2.5l-.94 2.06-2.06.94zm10 10l.94 2.06.94-2.06 2.06-.94-2.06-.94-.94-2.06-.94 2.06-2.06.94z\"/><path d=\"M17.41 7.96l-1.37-1.37c-.4-.4-.92-.59-1.43-.59-.52 0-1.04.2-1.43.59L10.3 9.45l-7.72 7.72c-.78.78-.78 2.05 0 2.83L4 21.41c.39.39.9.59 1.41.59.51 0 1.02-.2 1.41-.59l7.78-7.78 2.81-2.81c.8-.78.8-2.07 0-2.86zM5.41 20L4 18.59l7.72-7.72 1.47 1.35L5.41 20z\"/>\n",
              "  </svg>\n",
              "      </button>\n",
              "      \n",
              "  <style>\n",
              "    .colab-df-container {\n",
              "      display:flex;\n",
              "      flex-wrap:wrap;\n",
              "      gap: 12px;\n",
              "    }\n",
              "\n",
              "    .colab-df-convert {\n",
              "      background-color: #E8F0FE;\n",
              "      border: none;\n",
              "      border-radius: 50%;\n",
              "      cursor: pointer;\n",
              "      display: none;\n",
              "      fill: #1967D2;\n",
              "      height: 32px;\n",
              "      padding: 0 0 0 0;\n",
              "      width: 32px;\n",
              "    }\n",
              "\n",
              "    .colab-df-convert:hover {\n",
              "      background-color: #E2EBFA;\n",
              "      box-shadow: 0px 1px 2px rgba(60, 64, 67, 0.3), 0px 1px 3px 1px rgba(60, 64, 67, 0.15);\n",
              "      fill: #174EA6;\n",
              "    }\n",
              "\n",
              "    [theme=dark] .colab-df-convert {\n",
              "      background-color: #3B4455;\n",
              "      fill: #D2E3FC;\n",
              "    }\n",
              "\n",
              "    [theme=dark] .colab-df-convert:hover {\n",
              "      background-color: #434B5C;\n",
              "      box-shadow: 0px 1px 3px 1px rgba(0, 0, 0, 0.15);\n",
              "      filter: drop-shadow(0px 1px 2px rgba(0, 0, 0, 0.3));\n",
              "      fill: #FFFFFF;\n",
              "    }\n",
              "  </style>\n",
              "\n",
              "      <script>\n",
              "        const buttonEl =\n",
              "          document.querySelector('#df-4ecbfbaf-88bd-4fa0-bd63-c2c5abef5cd3 button.colab-df-convert');\n",
              "        buttonEl.style.display =\n",
              "          google.colab.kernel.accessAllowed ? 'block' : 'none';\n",
              "\n",
              "        async function convertToInteractive(key) {\n",
              "          const element = document.querySelector('#df-4ecbfbaf-88bd-4fa0-bd63-c2c5abef5cd3');\n",
              "          const dataTable =\n",
              "            await google.colab.kernel.invokeFunction('convertToInteractive',\n",
              "                                                     [key], {});\n",
              "          if (!dataTable) return;\n",
              "\n",
              "          const docLinkHtml = 'Like what you see? Visit the ' +\n",
              "            '<a target=\"_blank\" href=https://colab.research.google.com/notebooks/data_table.ipynb>data table notebook</a>'\n",
              "            + ' to learn more about interactive tables.';\n",
              "          element.innerHTML = '';\n",
              "          dataTable['output_type'] = 'display_data';\n",
              "          await google.colab.output.renderOutput(dataTable, element);\n",
              "          const docLink = document.createElement('div');\n",
              "          docLink.innerHTML = docLinkHtml;\n",
              "          element.appendChild(docLink);\n",
              "        }\n",
              "      </script>\n",
              "    </div>\n",
              "  </div>\n",
              "  "
            ]
          },
          "metadata": {},
          "execution_count": 101
        }
      ],
      "source": [
        "eng_fin"
      ]
    },
    {
      "cell_type": "code",
      "source": [
        "############ IGNORE\n",
        "eng_kor"
      ],
      "metadata": {
        "colab": {
          "base_uri": "https://localhost:8080/",
          "height": 419
        },
        "id": "QnT4S4OepRJ9",
        "outputId": "cc10f6d3-c0c4-4afd-b3d7-135693e9f501"
      },
      "execution_count": null,
      "outputs": [
        {
          "output_type": "execute_result",
          "data": {
            "text/plain": [
              "                                                    src  \\\n",
              "0                                                   Go.   \n",
              "1                                                   Hi.   \n",
              "2                                                  Run!   \n",
              "3                                                  Run.   \n",
              "4                                                  Who?   \n",
              "...                                                 ...   \n",
              "5789  I started a new blog. I'll do my best not to b...   \n",
              "5790  I think it's a shame that some foreign languag...   \n",
              "5791  And the good news is that today the economy is...   \n",
              "5792  If someone who doesn't know your background sa...   \n",
              "5793  Doubtless there exists in this world precisely...   \n",
              "\n",
              "                                                    trg  \n",
              "0                                                    가.  \n",
              "1                                                   안녕.  \n",
              "2                                                   뛰어!  \n",
              "3                                                   뛰어.  \n",
              "4                                                   누구?  \n",
              "...                                                 ...  \n",
              "5789  난 블로그를 시작했어. 블로그를 초반에만 반짝 많이 하다가 관두는 사람처럼은 되지 ...  \n",
              "5790  몇몇 외국어 선생님이 한 번도 원어민과 공부해본 적도 없으면서 대학을 나올 수 있었...  \n",
              "5791  다음으로 좋은 소식은 오늘 경제가 재성장한다는 것입니다. 임금, 소득, 집값, 퇴직...  \n",
              "5792  만일 네 사정도 잘 모르는 사람이 원어민 같다고 말한다면 그건 그 사람이 네가 원어...  \n",
              "5793  의심의 여지 없이 세상에는 어떤 남자이든 정확히 딱 알맞는 여자와 결혼하거나 그 반...  \n",
              "\n",
              "[5794 rows x 2 columns]"
            ],
            "text/html": [
              "\n",
              "  <div id=\"df-751f056f-418a-450f-ab57-447af95f7a59\">\n",
              "    <div class=\"colab-df-container\">\n",
              "      <div>\n",
              "<style scoped>\n",
              "    .dataframe tbody tr th:only-of-type {\n",
              "        vertical-align: middle;\n",
              "    }\n",
              "\n",
              "    .dataframe tbody tr th {\n",
              "        vertical-align: top;\n",
              "    }\n",
              "\n",
              "    .dataframe thead th {\n",
              "        text-align: right;\n",
              "    }\n",
              "</style>\n",
              "<table border=\"1\" class=\"dataframe\">\n",
              "  <thead>\n",
              "    <tr style=\"text-align: right;\">\n",
              "      <th></th>\n",
              "      <th>src</th>\n",
              "      <th>trg</th>\n",
              "    </tr>\n",
              "  </thead>\n",
              "  <tbody>\n",
              "    <tr>\n",
              "      <th>0</th>\n",
              "      <td>Go.</td>\n",
              "      <td>가.</td>\n",
              "    </tr>\n",
              "    <tr>\n",
              "      <th>1</th>\n",
              "      <td>Hi.</td>\n",
              "      <td>안녕.</td>\n",
              "    </tr>\n",
              "    <tr>\n",
              "      <th>2</th>\n",
              "      <td>Run!</td>\n",
              "      <td>뛰어!</td>\n",
              "    </tr>\n",
              "    <tr>\n",
              "      <th>3</th>\n",
              "      <td>Run.</td>\n",
              "      <td>뛰어.</td>\n",
              "    </tr>\n",
              "    <tr>\n",
              "      <th>4</th>\n",
              "      <td>Who?</td>\n",
              "      <td>누구?</td>\n",
              "    </tr>\n",
              "    <tr>\n",
              "      <th>...</th>\n",
              "      <td>...</td>\n",
              "      <td>...</td>\n",
              "    </tr>\n",
              "    <tr>\n",
              "      <th>5789</th>\n",
              "      <td>I started a new blog. I'll do my best not to b...</td>\n",
              "      <td>난 블로그를 시작했어. 블로그를 초반에만 반짝 많이 하다가 관두는 사람처럼은 되지 ...</td>\n",
              "    </tr>\n",
              "    <tr>\n",
              "      <th>5790</th>\n",
              "      <td>I think it's a shame that some foreign languag...</td>\n",
              "      <td>몇몇 외국어 선생님이 한 번도 원어민과 공부해본 적도 없으면서 대학을 나올 수 있었...</td>\n",
              "    </tr>\n",
              "    <tr>\n",
              "      <th>5791</th>\n",
              "      <td>And the good news is that today the economy is...</td>\n",
              "      <td>다음으로 좋은 소식은 오늘 경제가 재성장한다는 것입니다. 임금, 소득, 집값, 퇴직...</td>\n",
              "    </tr>\n",
              "    <tr>\n",
              "      <th>5792</th>\n",
              "      <td>If someone who doesn't know your background sa...</td>\n",
              "      <td>만일 네 사정도 잘 모르는 사람이 원어민 같다고 말한다면 그건 그 사람이 네가 원어...</td>\n",
              "    </tr>\n",
              "    <tr>\n",
              "      <th>5793</th>\n",
              "      <td>Doubtless there exists in this world precisely...</td>\n",
              "      <td>의심의 여지 없이 세상에는 어떤 남자이든 정확히 딱 알맞는 여자와 결혼하거나 그 반...</td>\n",
              "    </tr>\n",
              "  </tbody>\n",
              "</table>\n",
              "<p>5794 rows × 2 columns</p>\n",
              "</div>\n",
              "      <button class=\"colab-df-convert\" onclick=\"convertToInteractive('df-751f056f-418a-450f-ab57-447af95f7a59')\"\n",
              "              title=\"Convert this dataframe to an interactive table.\"\n",
              "              style=\"display:none;\">\n",
              "        \n",
              "  <svg xmlns=\"http://www.w3.org/2000/svg\" height=\"24px\"viewBox=\"0 0 24 24\"\n",
              "       width=\"24px\">\n",
              "    <path d=\"M0 0h24v24H0V0z\" fill=\"none\"/>\n",
              "    <path d=\"M18.56 5.44l.94 2.06.94-2.06 2.06-.94-2.06-.94-.94-2.06-.94 2.06-2.06.94zm-11 1L8.5 8.5l.94-2.06 2.06-.94-2.06-.94L8.5 2.5l-.94 2.06-2.06.94zm10 10l.94 2.06.94-2.06 2.06-.94-2.06-.94-.94-2.06-.94 2.06-2.06.94z\"/><path d=\"M17.41 7.96l-1.37-1.37c-.4-.4-.92-.59-1.43-.59-.52 0-1.04.2-1.43.59L10.3 9.45l-7.72 7.72c-.78.78-.78 2.05 0 2.83L4 21.41c.39.39.9.59 1.41.59.51 0 1.02-.2 1.41-.59l7.78-7.78 2.81-2.81c.8-.78.8-2.07 0-2.86zM5.41 20L4 18.59l7.72-7.72 1.47 1.35L5.41 20z\"/>\n",
              "  </svg>\n",
              "      </button>\n",
              "      \n",
              "  <style>\n",
              "    .colab-df-container {\n",
              "      display:flex;\n",
              "      flex-wrap:wrap;\n",
              "      gap: 12px;\n",
              "    }\n",
              "\n",
              "    .colab-df-convert {\n",
              "      background-color: #E8F0FE;\n",
              "      border: none;\n",
              "      border-radius: 50%;\n",
              "      cursor: pointer;\n",
              "      display: none;\n",
              "      fill: #1967D2;\n",
              "      height: 32px;\n",
              "      padding: 0 0 0 0;\n",
              "      width: 32px;\n",
              "    }\n",
              "\n",
              "    .colab-df-convert:hover {\n",
              "      background-color: #E2EBFA;\n",
              "      box-shadow: 0px 1px 2px rgba(60, 64, 67, 0.3), 0px 1px 3px 1px rgba(60, 64, 67, 0.15);\n",
              "      fill: #174EA6;\n",
              "    }\n",
              "\n",
              "    [theme=dark] .colab-df-convert {\n",
              "      background-color: #3B4455;\n",
              "      fill: #D2E3FC;\n",
              "    }\n",
              "\n",
              "    [theme=dark] .colab-df-convert:hover {\n",
              "      background-color: #434B5C;\n",
              "      box-shadow: 0px 1px 3px 1px rgba(0, 0, 0, 0.15);\n",
              "      filter: drop-shadow(0px 1px 2px rgba(0, 0, 0, 0.3));\n",
              "      fill: #FFFFFF;\n",
              "    }\n",
              "  </style>\n",
              "\n",
              "      <script>\n",
              "        const buttonEl =\n",
              "          document.querySelector('#df-751f056f-418a-450f-ab57-447af95f7a59 button.colab-df-convert');\n",
              "        buttonEl.style.display =\n",
              "          google.colab.kernel.accessAllowed ? 'block' : 'none';\n",
              "\n",
              "        async function convertToInteractive(key) {\n",
              "          const element = document.querySelector('#df-751f056f-418a-450f-ab57-447af95f7a59');\n",
              "          const dataTable =\n",
              "            await google.colab.kernel.invokeFunction('convertToInteractive',\n",
              "                                                     [key], {});\n",
              "          if (!dataTable) return;\n",
              "\n",
              "          const docLinkHtml = 'Like what you see? Visit the ' +\n",
              "            '<a target=\"_blank\" href=https://colab.research.google.com/notebooks/data_table.ipynb>data table notebook</a>'\n",
              "            + ' to learn more about interactive tables.';\n",
              "          element.innerHTML = '';\n",
              "          dataTable['output_type'] = 'display_data';\n",
              "          await google.colab.output.renderOutput(dataTable, element);\n",
              "          const docLink = document.createElement('div');\n",
              "          docLink.innerHTML = docLinkHtml;\n",
              "          element.appendChild(docLink);\n",
              "        }\n",
              "      </script>\n",
              "    </div>\n",
              "  </div>\n",
              "  "
            ]
          },
          "metadata": {},
          "execution_count": 86
        }
      ]
    },
    {
      "cell_type": "code",
      "execution_count": 10,
      "metadata": {
        "id": "6Wk49yVOBG5y"
      },
      "outputs": [],
      "source": [
        "# Load data\n",
        "\n",
        "data = TabularDataset(\n",
        "    path='./eng_fin.csv', format='csv',\n",
        "    fields=[('src', SRC), ('trg', TRG)], skip_header=True)"
      ]
    },
    {
      "cell_type": "code",
      "source": [
        "############ IGNORE\n",
        "# Reload Korean data\n",
        "\n",
        "data = TabularDataset(\n",
        "    path='./eng_kor.csv', format='csv',\n",
        "    fields=[('src', SRC), ('trg', TRG)], skip_header=True)"
      ],
      "metadata": {
        "id": "uxr-tN1MpSr1"
      },
      "execution_count": null,
      "outputs": []
    },
    {
      "cell_type": "code",
      "execution_count": 11,
      "metadata": {
        "colab": {
          "base_uri": "https://localhost:8080/"
        },
        "id": "EkvhwdIhBG5z",
        "outputId": "bedbdd10-451d-410d-a2bd-d565fd8584ce"
      },
      "outputs": [
        {
          "output_type": "stream",
          "name": "stdout",
          "text": [
            "{'src': ['go', '.'], 'trg': ['mene', '.']}\n"
          ]
        }
      ],
      "source": [
        "print(vars(data[0]))"
      ]
    },
    {
      "cell_type": "code",
      "source": [
        "############ IGNORE\n",
        "print(vars(data[0]))"
      ],
      "metadata": {
        "colab": {
          "base_uri": "https://localhost:8080/"
        },
        "id": "GcWy5vNkpb5y",
        "outputId": "16437980-845e-483d-a899-848ae45a560c"
      },
      "execution_count": null,
      "outputs": [
        {
          "output_type": "stream",
          "name": "stdout",
          "text": [
            "{'src': ['go', '.'], 'trg': ['가', '.']}\n"
          ]
        }
      ]
    },
    {
      "cell_type": "code",
      "execution_count": 12,
      "metadata": {
        "id": "JxchRTDMBG5z"
      },
      "outputs": [],
      "source": [
        "# Split the dataset into training and test sets(9:1)\n",
        "train_data, test_data = data.split(split_ratio=0.9, random_state = random.seed(SEED))\n",
        "\n",
        "# Further, split the train_data into training and valid sets(9:1)\n",
        "train_data, valid_data = train_data.split(split_ratio=0.9, random_state = random.seed(SEED))"
      ]
    },
    {
      "cell_type": "code",
      "source": [
        "print(f\"Number of training data: {len(train_data)}\")\n",
        "print(f\"Number of validation data: {len(valid_data)}\")\n",
        "print(f\"Number of testing data: {len(test_data)}\")"
      ],
      "metadata": {
        "colab": {
          "base_uri": "https://localhost:8080/"
        },
        "id": "8J5f5EgT3Biz",
        "outputId": "4bd26615-e64c-4979-debb-ec5f286efcec"
      },
      "execution_count": 13,
      "outputs": [
        {
          "output_type": "stream",
          "name": "stdout",
          "text": [
            "Number of training data: 57219\n",
            "Number of validation data: 6358\n",
            "Number of testing data: 7064\n"
          ]
        }
      ]
    },
    {
      "cell_type": "code",
      "source": [
        "############ IGNORE\n",
        "# KOREAN data\n",
        "print(f\"Number of training data: {len(train_data)}\")\n",
        "print(f\"Number of validation data: {len(valid_data)}\")\n",
        "print(f\"Number of testing data: {len(test_data)}\")"
      ],
      "metadata": {
        "colab": {
          "base_uri": "https://localhost:8080/"
        },
        "id": "uBtIt3cGLkzw",
        "outputId": "a2ad67ab-bb43-4f98-d302-2bdcdf3cb90c"
      },
      "execution_count": null,
      "outputs": [
        {
          "output_type": "stream",
          "name": "stdout",
          "text": [
            "Number of training data: 4694\n",
            "Number of validation data: 521\n",
            "Number of testing data: 579\n"
          ]
        }
      ]
    },
    {
      "cell_type": "code",
      "execution_count": 14,
      "metadata": {
        "id": "S595cvVMBG50"
      },
      "outputs": [],
      "source": [
        "# Build vocab\n",
        "\n",
        "SRC.build_vocab(train_data, min_freq = 2)\n",
        "TRG.build_vocab(train_data, min_freq = 2)"
      ]
    },
    {
      "cell_type": "code",
      "execution_count": 15,
      "metadata": {
        "colab": {
          "base_uri": "https://localhost:8080/"
        },
        "id": "kdENgMkHBG51",
        "outputId": "d8a07f44-0256-4720-806b-f008cd75fa2e"
      },
      "outputs": [
        {
          "output_type": "stream",
          "name": "stdout",
          "text": [
            "Number of unique tokens in SRC(English) vocabulary: 6232\n",
            "Number of unique tokens in TRG(Finnish) vocabulary: 14032\n"
          ]
        }
      ],
      "source": [
        "print(f\"Number of unique tokens in SRC(English) vocabulary: {len(SRC.vocab)}\")\n",
        "print(f\"Number of unique tokens in TRG(Finnish) vocabulary: {len(TRG.vocab)}\")"
      ]
    },
    {
      "cell_type": "code",
      "source": [
        "############ IGNORE\n",
        "print(f\"Number of unique tokens in SRC(English) vocabulary: {len(SRC.vocab)}\")\n",
        "print(f\"Number of unique tokens in TRG(Korean) vocabulary: {len(TRG.vocab)}\")"
      ],
      "metadata": {
        "colab": {
          "base_uri": "https://localhost:8080/"
        },
        "id": "eBUPgaLgqj8u",
        "outputId": "61039ab2-5b4f-4b58-ea4e-c8d4703f08db"
      },
      "execution_count": null,
      "outputs": [
        {
          "output_type": "stream",
          "name": "stdout",
          "text": [
            "Number of unique tokens in SRC(English) vocabulary: 1529\n",
            "Number of unique tokens in TRG(Korean) vocabulary: 2122\n"
          ]
        }
      ]
    },
    {
      "cell_type": "code",
      "execution_count": 16,
      "metadata": {
        "id": "94C2bdXhBG51"
      },
      "outputs": [],
      "source": [
        "# Define Data Iterators\n",
        "\n",
        "BATCH_SIZE = 64\n",
        "\n",
        "train_iterator, valid_iterator, test_iterator = BucketIterator.splits(\n",
        "    (train_data, valid_data, test_data), \n",
        "     batch_size = BATCH_SIZE,\n",
        "     shuffle = True,\n",
        "     sort_key = lambda x : len(x.src),  # source sentence(english sentence)의 길이에 따라 정렬\n",
        "     device = device)"
      ]
    },
    {
      "cell_type": "markdown",
      "metadata": {
        "id": "6wdE9jagxUAi"
      },
      "source": [
        "### 3. Encoder and Decoder"
      ]
    },
    {
      "cell_type": "code",
      "execution_count": 17,
      "metadata": {
        "id": "wLU-unK7ffIh"
      },
      "outputs": [],
      "source": [
        "class Encoder(nn.Module):\n",
        "    def __init__(self, input_dim, emb_dim, enc_hid_dim, dec_hid_dim, n_layers, dropout):\n",
        "        super().__init__()\n",
        "        \n",
        "        self.embedding = nn.Embedding(input_dim, emb_dim)\n",
        "        self.gru = nn.GRU(emb_dim, enc_hid_dim, n_layers, dropout=dropout, bidirectional = True)\n",
        "        \n",
        "        # bidirectional이므로 양방향으로 출력되는 두 최종 hidden state를 concat할 것\n",
        "        # Encoder의 final hidden state(context vector)가 Decoder의 initial hidden state로\n",
        "        # 바로 사용될 수 있도록 하기위해 self.fc통해 dimension을 맞춰줌\n",
        "        self.fc = nn.Linear(enc_hid_dim * 2, dec_hid_dim)\n",
        "        \n",
        "    def forward(self, src):\n",
        "        embedded = self.embedding(src)\n",
        "        outputs, hidden = self.gru(embedded)\n",
        "        # 현재 outputs, hidden tensor size\n",
        "        # outputs = [src len, batch size, enc_hid_dim * 2]\n",
        "        # hidden = [n_layers*2, batch size, enc_hid_dim]\n",
        "        \n",
        "        # hidden [-2, :, : ]는 마지막 layer forward GRU의 hidden state\n",
        "        # hidden [-1, :, : ]는 마지막 layer backward GRU의 hidden state\n",
        "        # --> 두 정보를 모두 담은 하나의 hidden을 만들 것\n",
        "        hidden = torch.cat((hidden[-2,:,:], hidden[-1,:,:]), dim = 1)\n",
        "        hidden = self.fc(hidden)\n",
        "        hidden = torch.tanh(hidden)\n",
        "        # now, hidden = [batch size, dec_hid_dim]\n",
        "        \n",
        "        return outputs, hidden\n",
        "\n",
        "        # 따라서,\n",
        "        # outputs = [src len, batch size, enc_hid_dim * 2]\n",
        "        # hidden = [batch size, dec_hid_dim]"
      ]
    },
    {
      "cell_type": "code",
      "execution_count": 18,
      "metadata": {
        "id": "74BzvJeRBG53"
      },
      "outputs": [],
      "source": [
        "# Additive Attention\n",
        "\n",
        "class Attention(nn.Module):\n",
        "    def __init__(self, enc_hid_dim, dec_hid_dim):\n",
        "        super().__init__()\n",
        "        \n",
        "        # encoder outputs와 decoder hidden state를 concat하고 통과시킬 linear layer\n",
        "        # encoder outputs와 decoder hidden state 사이의 similarity를 나타내게 됨 (이후 tanh layer 통과해야함)\n",
        "        self.fc1 = nn.Linear(enc_hid_dim * 2 + dec_hid_dim, dec_hid_dim)\n",
        "\n",
        "        # Attention은 input(source) sentence만큼의, 또는 그 이상의 크기를 가져야함\n",
        "        # 출력값이 각 source sentence에 대한 attention weight를 나타내므로 그에 맞게 크기 조정할 때 쓰이는 layer\n",
        "        # dec_hid_dim 만큼의 dimension을 가지는 벡터를 1 dimension 값으로 대응 --> 이 값은 source sentence 각 토큰에 대한 attention weight\n",
        "        self.fc2 = nn.Linear(dec_hid_dim, 1, bias = False)\n",
        "        \n",
        "    def forward(self, hidden, encoder_outputs):\n",
        "        # input tensor들의 사이즈\n",
        "        # encoder_outputs = [src len, batch size, enc_hid_dim * 2]\n",
        "        # hidden = [batch size, dec_hid_dim]\n",
        "\n",
        "        src_len = encoder_outputs.shape[0]\n",
        "        batch_size = encoder_outputs.shape[1]\n",
        "\n",
        "        encoder_outputs = encoder_outputs.permute(1, 0, 2)\n",
        "        # encoder_outputs = [batch size, src len, enc_hid_dim * 2]\n",
        "        \n",
        "        # hidden의 사이즈를 encoder_outputs 사이즈와 동일하게 맞춰줌\n",
        "        hidden = hidden.unsqueeze(1).repeat(1, src_len, 1)\n",
        "        # now, hidden = [batch size, src len, dec_hid_dim]\n",
        "        \n",
        "        # Additive attention\n",
        "        attention = torch.tanh(self.fc1(torch.cat((hidden, encoder_outputs), dim = 2))) \n",
        "        # attention = [batch size, src len, dec_hid_dim]\n",
        "\n",
        "        attention = self.fc2(attention)\n",
        "        # attention= [batch size, src len, 1]\n",
        "        attention = attention.squeeze(2)\n",
        "        # attention= [batch size, src len]\n",
        "        attention = F.softmax(attention, dim=1)\n",
        "        \n",
        "        return attention\n",
        "        # attention= [batch size, src len]"
      ]
    },
    {
      "cell_type": "code",
      "execution_count": 19,
      "metadata": {
        "id": "LWC3OIgsBG53"
      },
      "outputs": [],
      "source": [
        "class Decoder(nn.Module):\n",
        "    def __init__(self, output_dim, emb_dim, enc_hid_dim, dec_hid_dim, dropout, attention, n_layers):\n",
        "        super().__init__()\n",
        "\n",
        "        self.output_dim = output_dim\n",
        "        self.attention = attention\n",
        "        self.n_layers = n_layers\n",
        "        \n",
        "        self.embedding = nn.Embedding(output_dim, emb_dim)\n",
        "        self.gru = nn.GRU((enc_hid_dim * 2) + emb_dim, dec_hid_dim, n_layers, dropout=dropout)\n",
        "        self.fc_out = nn.Linear((enc_hid_dim * 2) + dec_hid_dim + emb_dim, output_dim)\n",
        "        \n",
        "    def forward(self, input, hidden, encoder_outputs):\n",
        "        # input 처리\n",
        "        input = input.unsqueeze(0)\n",
        "        embedded = self.embedding(input)\n",
        "        # embedded = [1, batch size, emb dim]\n",
        "        \n",
        "        # attention 계산\n",
        "        # attention layer에 들어가는 hidden(decoder hidden state)의 shape이 [batch size, dec_hid_dim]이어야 함\n",
        "        # Decoder의 hidden state가 [n_layers, batch size, dec_hid_dim] size를 가지므로\n",
        "        # hidden[-1]해서 [batch size, dec_hid_dim]의 사이즈를 가지는, 마지막 layer의 hidden state만 attention 계산에 사용할 것\n",
        "\n",
        "        # 그런데 첫 번째 timestep에서는 encoder의 hidden state를 input으로 받음\n",
        "        # encoder hidden state의 shape은 [batch size, dec_hid_dim]임\n",
        "        # self.gru에 넣어주기 위해 [n_layers, batch size, dec_hid_dim] 사이즈로 변경해줌\n",
        "        if len(hidden.shape)==2:   # encoder hidden state가 들어왔을 때, 따로 처리해주어야 하는 부분\n",
        "          hidden = hidden.unsqueeze(0).repeat(self.n_layers, 1, 1)  # [n_layers, batch size, dec_hid_dim]로 shape 변경\n",
        "\n",
        "        last_hidden = hidden[-1]  # 디코더의 마지막 layer hidden state\n",
        "\n",
        "        a = self.attention(last_hidden, encoder_outputs)\n",
        "        a = a.unsqueeze(1)\n",
        "        # a = [batch size, 1, src len]\n",
        "        \n",
        "        encoder_outputs = encoder_outputs.permute(1, 0, 2)\n",
        "        #encoder_outputs = [batch size, src len, enc hid dim * 2]\n",
        "        \n",
        "        # weighted sum of the encoder hidden states\n",
        "        weighted = torch.bmm(a, encoder_outputs)\n",
        "        # weighted = [batch size, 1, enc hid dim * 2]\n",
        "        \n",
        "        # embedded input과 concat하기 위해 dimension 조정\n",
        "        weighted = weighted.permute(1, 0, 2)\n",
        "        # weighted = [1, batch size, enc hid dim * 2]\n",
        "        \n",
        "        # GRU에 embedded input word, weighted source vector, previous decoder hidden state 들어감\n",
        "        # embedded input word와 weighted source vector는 concat해서 넣어줌\n",
        "        gru_input = torch.cat((embedded, weighted), dim = 2)\n",
        "        #gru_input = [1, batch size, (enc hid dim * 2) + emb dim]\n",
        "            \n",
        "        output, hidden = self.gru(gru_input, hidden)\n",
        "        # output = [seq len(=1), batch size, dec hid dim]\n",
        "        # hidden = [n_layers, batch size, dec hid dim]\n",
        "        assert (output[-1] == hidden[-1]).all()\n",
        "        \n",
        "        embedded = embedded.squeeze(0)\n",
        "        # embedded = [batch size, emb dim]\n",
        "        output = output.squeeze(0)\n",
        "        # output = [batch size, dec hid dim]\n",
        "        weighted = weighted.squeeze(0)\n",
        "        # weighted = [batch size, enc hid dim * 2]\n",
        "        \n",
        "        # 다음 단어 예측\n",
        "        prediction = self.fc_out(torch.cat((output, weighted, embedded), dim = 1))\n",
        "        # prediction = [batch size, output dim]\n",
        "        \n",
        "        return prediction, hidden, a.squeeze(1)\n",
        "        # prediction = [batch size, output dim]\n",
        "        # hidden = [n_layers, batch size, dec hid dim]\n",
        "        # a.squeeze(1) = [batch size, src_len]"
      ]
    },
    {
      "cell_type": "code",
      "execution_count": 20,
      "metadata": {
        "id": "95Ho9euZBG54"
      },
      "outputs": [],
      "source": [
        "class Seq2Seq(nn.Module):\n",
        "    def __init__(self, encoder, decoder, device):\n",
        "        super().__init__()\n",
        "        \n",
        "        self.encoder = encoder\n",
        "        self.decoder = decoder\n",
        "        self.device = device\n",
        "        \n",
        "    def forward(self, src, trg, teacher_forcing_ratio = 0.5):\n",
        "        #src = [src len, batch size]\n",
        "        #trg = [trg len, batch size]\n",
        "        \n",
        "        batch_size = src.shape[1]\n",
        "\n",
        "        # 정답 문장의 길이를 알고 있으므로, 정답 문장의 길이만큼만 prediction을 수행할 것\n",
        "        trg_len = trg.shape[0]\n",
        "        trg_vocab_size = self.decoder.output_dim\n",
        "        \n",
        "        # Target prediction을 저장할 텐서(정답의 길이에 맞추어 initialize해둠)\n",
        "        outputs = torch.zeros(trg_len, batch_size, trg_vocab_size).to(self.device)\n",
        "        \n",
        "        encoder_outputs, hidden = self.encoder(src)\n",
        "                \n",
        "        # First input to the decoder : <sos>\n",
        "        input = trg[0,:]\n",
        "        \n",
        "        for t in range(1, trg_len):\n",
        "            \n",
        "            out, hidden, __ = self.decoder(input, hidden, encoder_outputs)\n",
        "            \n",
        "            # Timestep t의 prediction을 기록\n",
        "            outputs[t] = out\n",
        "            \n",
        "            # teacher forcing 적용할지 말지 결정\n",
        "            teacher_force = random.random() < teacher_forcing_ratio\n",
        "            \n",
        "            # 가장 확률이 높은 토큰\n",
        "            top = out.argmax(1)\n",
        "            \n",
        "            # teacher forcing 사용한다면 정답 token을 다음 인풋으로 사용\n",
        "            # 그렇지 않으면 방금 예측한 token을 다음 인풋으로 사용\n",
        "            if teacher_force:\n",
        "              input = trg[t]\n",
        "            else:\n",
        "              input = top\n",
        "\n",
        "        return outputs\n",
        "        # outputs = [trg_len, batch_size, trg_vocab_size]"
      ]
    },
    {
      "cell_type": "markdown",
      "metadata": {
        "id": "Bp1epVcTxz6c"
      },
      "source": [
        "### 4. Preparing Training and Evaluating"
      ]
    },
    {
      "cell_type": "code",
      "execution_count": 45,
      "metadata": {
        "id": "HPMhvBLEBG55"
      },
      "outputs": [],
      "source": [
        "INPUT_DIM = len(SRC.vocab)\n",
        "OUTPUT_DIM = len(TRG.vocab)\n",
        "ENC_EMB_DIM = 256\n",
        "DEC_EMB_DIM = 256\n",
        "ENC_HID_DIM = 512\n",
        "DEC_HID_DIM = 512\n",
        "ENC_DROPOUT = 0.5\n",
        "DEC_DROPOUT = 0.5\n",
        "ENC_NUM_OF_LAYERS = 1\n",
        "DEC_NUM_OF_LAYERS = 1\n",
        "\n",
        "attn = Attention(ENC_HID_DIM, DEC_HID_DIM)\n",
        "enc = Encoder(INPUT_DIM, ENC_EMB_DIM, ENC_HID_DIM, DEC_HID_DIM, ENC_NUM_OF_LAYERS, ENC_DROPOUT)\n",
        "dec = Decoder(OUTPUT_DIM, DEC_EMB_DIM, ENC_HID_DIM, DEC_HID_DIM, DEC_DROPOUT, attn, DEC_NUM_OF_LAYERS)\n",
        "\n",
        "model = Seq2Seq(enc, dec, device).to(device)"
      ]
    },
    {
      "cell_type": "code",
      "execution_count": 46,
      "metadata": {
        "colab": {
          "base_uri": "https://localhost:8080/"
        },
        "id": "jUc-QDdQBG55",
        "outputId": "8b8cd12d-dd1a-487a-a2c9-36f57da81b20"
      },
      "outputs": [
        {
          "output_type": "execute_result",
          "data": {
            "text/plain": [
              "Seq2Seq(\n",
              "  (encoder): Encoder(\n",
              "    (embedding): Embedding(6232, 256)\n",
              "    (gru): GRU(256, 512, dropout=0.5, bidirectional=True)\n",
              "    (fc): Linear(in_features=1024, out_features=512, bias=True)\n",
              "  )\n",
              "  (decoder): Decoder(\n",
              "    (attention): Attention(\n",
              "      (fc1): Linear(in_features=1536, out_features=512, bias=True)\n",
              "      (fc2): Linear(in_features=512, out_features=1, bias=False)\n",
              "    )\n",
              "    (embedding): Embedding(14032, 256)\n",
              "    (gru): GRU(1280, 512, dropout=0.5)\n",
              "    (fc_out): Linear(in_features=1792, out_features=14032, bias=True)\n",
              "  )\n",
              ")"
            ]
          },
          "metadata": {},
          "execution_count": 46
        }
      ],
      "source": [
        "def init_weights(m):\n",
        "    for name, param in m.named_parameters():\n",
        "        if 'weight' in name:\n",
        "            nn.init.normal_(param.data, mean=0, std=0.01)\n",
        "        else:\n",
        "            nn.init.constant_(param.data, 0)\n",
        "            \n",
        "model.apply(init_weights)"
      ]
    },
    {
      "cell_type": "code",
      "execution_count": 47,
      "metadata": {
        "id": "jLDgErxLBG55"
      },
      "outputs": [],
      "source": [
        "# Define Optimizer and Criterion\n",
        "\n",
        "optimizer = optim.Adam(model.parameters())\n",
        "\n",
        "TRG_PAD_IDX = TRG.vocab.stoi[TRG.pad_token]\n",
        "criterion = nn.CrossEntropyLoss(ignore_index = TRG_PAD_IDX)"
      ]
    },
    {
      "cell_type": "code",
      "execution_count": null,
      "metadata": {
        "id": "HcA7gGvJBG56"
      },
      "outputs": [],
      "source": [
        "def train(model, iterator, optimizer, criterion):\n",
        "    \n",
        "    model.train()\n",
        "    \n",
        "    epoch_loss = 0\n",
        "    \n",
        "    for i, batch in enumerate(iterator):\n",
        "        \n",
        "        src = batch.src\n",
        "        trg = batch.trg\n",
        "        # trg = [trg len, batch size]\n",
        "        \n",
        "        optimizer.zero_grad()\n",
        "        \n",
        "        # Decoder에서 각 timestep마다 계산한 target vocabs에 대한 predictions를 출력\n",
        "        output = model(src, trg)\n",
        "        # output = [trg len, batch size, output dim]\n",
        "        \n",
        "        output_dim = output.shape[-1]\n",
        "        \n",
        "        output = output[1:].view(-1, output_dim)\n",
        "        trg = trg[1:].view(-1)\n",
        "        # trg = [(trg len - 1) * batch size]\n",
        "        # output = [(trg len - 1) * batch size, output dim]\n",
        "        \n",
        "        loss = criterion(output, trg)\n",
        "        \n",
        "        loss.backward()\n",
        "        \n",
        "        optimizer.step()\n",
        "        \n",
        "        epoch_loss += loss.item()\n",
        "        \n",
        "    return epoch_loss / len(iterator)"
      ]
    },
    {
      "cell_type": "code",
      "execution_count": 24,
      "metadata": {
        "id": "4C9nY57hBG56"
      },
      "outputs": [],
      "source": [
        "def evaluate(model, iterator, criterion):\n",
        "    \n",
        "    model.eval()\n",
        "    \n",
        "    epoch_loss = 0\n",
        "    \n",
        "    with torch.no_grad():\n",
        "    \n",
        "        for i, batch in enumerate(iterator):\n",
        "\n",
        "            src = batch.src\n",
        "            trg = batch.trg\n",
        "\n",
        "            output = model(src, trg, 0) #turn off teacher forcing\n",
        "\n",
        "            output_dim = output.shape[-1]\n",
        "            \n",
        "            output = output[1:].view(-1, output_dim)\n",
        "            trg = trg[1:].view(-1)\n",
        "\n",
        "            loss = criterion(output, trg)\n",
        "\n",
        "            epoch_loss += loss.item()\n",
        "        \n",
        "    return epoch_loss / len(iterator)"
      ]
    },
    {
      "cell_type": "code",
      "execution_count": 25,
      "metadata": {
        "id": "cZELQvBcyXwT"
      },
      "outputs": [],
      "source": [
        "def epoch_time(start_time, end_time):\n",
        "    elapsed_time = end_time - start_time\n",
        "    elapsed_mins = int(elapsed_time / 60)\n",
        "    elapsed_secs = int(elapsed_time - (elapsed_mins * 60))\n",
        "    return elapsed_mins, elapsed_secs"
      ]
    },
    {
      "cell_type": "markdown",
      "metadata": {
        "id": "5zV07hjIyr7p"
      },
      "source": [
        "### 5. Training"
      ]
    },
    {
      "cell_type": "code",
      "execution_count": null,
      "metadata": {
        "colab": {
          "base_uri": "https://localhost:8080/"
        },
        "id": "_bBSstXGy00B",
        "outputId": "ca8d465e-a921-4443-b19a-21a29130361e"
      },
      "outputs": [
        {
          "output_type": "stream",
          "name": "stdout",
          "text": [
            "Epoch: 01 | Time: 3m 29s\n",
            "\tTrain Loss: 4.686\n",
            "\t Val. Loss: 3.746\n",
            "Epoch: 02 | Time: 3m 23s\n",
            "\tTrain Loss: 2.915\n",
            "\t Val. Loss: 2.697\n",
            "Epoch: 03 | Time: 3m 26s\n",
            "\tTrain Loss: 2.013\n",
            "\t Val. Loss: 2.537\n",
            "Epoch: 04 | Time: 3m 25s\n",
            "\tTrain Loss: 1.599\n",
            "\t Val. Loss: 2.565\n",
            "Epoch: 05 | Time: 3m 34s\n",
            "\tTrain Loss: 1.398\n",
            "\t Val. Loss: 2.568\n",
            "Epoch: 06 | Time: 3m 29s\n",
            "\tTrain Loss: 1.279\n",
            "\t Val. Loss: 2.737\n",
            "Epoch: 07 | Time: 3m 29s\n",
            "\tTrain Loss: 1.177\n",
            "\t Val. Loss: 2.681\n",
            "Epoch: 08 | Time: 3m 32s\n",
            "\tTrain Loss: 1.112\n",
            "\t Val. Loss: 2.694\n",
            "Epoch: 09 | Time: 3m 31s\n",
            "\tTrain Loss: 1.060\n",
            "\t Val. Loss: 2.770\n",
            "Epoch: 10 | Time: 3m 30s\n",
            "\tTrain Loss: 1.036\n",
            "\t Val. Loss: 2.810\n",
            "Epoch: 11 | Time: 3m 27s\n",
            "\tTrain Loss: 0.991\n",
            "\t Val. Loss: 2.824\n",
            "Epoch: 12 | Time: 3m 35s\n",
            "\tTrain Loss: 0.974\n",
            "\t Val. Loss: 2.903\n",
            "Epoch: 13 | Time: 3m 30s\n",
            "\tTrain Loss: 0.960\n",
            "\t Val. Loss: 2.951\n",
            "Epoch: 14 | Time: 3m 29s\n",
            "\tTrain Loss: 0.949\n",
            "\t Val. Loss: 3.072\n",
            "Epoch: 15 | Time: 3m 27s\n",
            "\tTrain Loss: 0.925\n",
            "\t Val. Loss: 3.038\n",
            "Epoch: 16 | Time: 3m 26s\n",
            "\tTrain Loss: 0.918\n",
            "\t Val. Loss: 3.070\n",
            "Epoch: 17 | Time: 3m 26s\n",
            "\tTrain Loss: 0.913\n",
            "\t Val. Loss: 3.138\n",
            "Epoch: 18 | Time: 3m 24s\n",
            "\tTrain Loss: 0.918\n",
            "\t Val. Loss: 3.168\n",
            "Epoch: 19 | Time: 3m 26s\n",
            "\tTrain Loss: 0.934\n",
            "\t Val. Loss: 3.216\n",
            "Epoch: 20 | Time: 3m 25s\n",
            "\tTrain Loss: 0.946\n",
            "\t Val. Loss: 3.235\n"
          ]
        }
      ],
      "source": [
        "# Trial1. encoder 3 layers, decoder 6 layers, 20 epochs\n",
        "# --> epoch가 10을 넘어가면 valid loss가 증가하므로 뒤에서는 epoch를 10으로 사용\n",
        "# --> layer 3개, 6개는 데이터에 비해 너무 복잡한가 싶었음\n",
        "\n",
        "N_EPOCHS = 20\n",
        "\n",
        "best_valid_loss = float('inf')\n",
        "\n",
        "for epoch in range(N_EPOCHS):\n",
        "    \n",
        "    start_time = time.time()\n",
        "    \n",
        "    train_loss = train(model, train_iterator, optimizer, criterion)\n",
        "    valid_loss = evaluate(model, valid_iterator, criterion)\n",
        "    \n",
        "    end_time = time.time()\n",
        "    \n",
        "    epoch_mins, epoch_secs = epoch_time(start_time, end_time)\n",
        "    \n",
        "    if valid_loss < best_valid_loss:\n",
        "        best_valid_loss = valid_loss\n",
        "        torch.save(model.state_dict(), 'attn-model.pt')\n",
        "    \n",
        "    print(f'Epoch: {epoch+1:02} | Time: {epoch_mins}m {epoch_secs}s')\n",
        "    print(f'\\tTrain Loss: {train_loss:.3f}')\n",
        "    print(f'\\t Val. Loss: {valid_loss:.3f}')"
      ]
    },
    {
      "cell_type": "code",
      "source": [
        "# Trial2. layer 수를 줄여봄\n",
        "# encoder 2 layers, decoder 4 layers, 10 epochs\n",
        "# Trial1과 큰 차이는 없는 것 같음\n",
        "\n",
        "N_EPOCHS = 10\n",
        "\n",
        "best_valid_loss = float('inf')\n",
        "\n",
        "for epoch in range(N_EPOCHS):\n",
        "    \n",
        "    start_time = time.time()\n",
        "    \n",
        "    train_loss = train(model, train_iterator, optimizer, criterion)\n",
        "    valid_loss = evaluate(model, valid_iterator, criterion)\n",
        "    \n",
        "    end_time = time.time()\n",
        "    \n",
        "    epoch_mins, epoch_secs = epoch_time(start_time, end_time)\n",
        "    \n",
        "    if valid_loss < best_valid_loss:\n",
        "        best_valid_loss = valid_loss\n",
        "        torch.save(model.state_dict(), 'attn-model.pt')\n",
        "    \n",
        "    print(f'Epoch: {epoch+1:02} | Time: {epoch_mins}m {epoch_secs}s')\n",
        "    print(f'\\tTrain Loss: {train_loss:.3f}')\n",
        "    print(f'\\t Val. Loss: {valid_loss:.3f}')"
      ],
      "metadata": {
        "colab": {
          "base_uri": "https://localhost:8080/"
        },
        "id": "GaB2WQLGvy-1",
        "outputId": "3653892b-2b60-4eda-fef7-7dc88d00e24e"
      },
      "execution_count": null,
      "outputs": [
        {
          "output_type": "stream",
          "name": "stdout",
          "text": [
            "Epoch: 01 | Time: 3m 6s\n",
            "\tTrain Loss: 4.726\n",
            "\t Val. Loss: 3.629\n",
            "Epoch: 02 | Time: 2m 55s\n",
            "\tTrain Loss: 2.891\n",
            "\t Val. Loss: 2.642\n",
            "Epoch: 03 | Time: 3m 14s\n",
            "\tTrain Loss: 1.962\n",
            "\t Val. Loss: 2.532\n",
            "Epoch: 04 | Time: 3m 12s\n",
            "\tTrain Loss: 1.508\n",
            "\t Val. Loss: 2.552\n",
            "Epoch: 05 | Time: 3m 11s\n",
            "\tTrain Loss: 1.303\n",
            "\t Val. Loss: 2.469\n",
            "Epoch: 06 | Time: 3m 7s\n",
            "\tTrain Loss: 1.174\n",
            "\t Val. Loss: 2.518\n",
            "Epoch: 07 | Time: 3m 12s\n",
            "\tTrain Loss: 1.065\n",
            "\t Val. Loss: 2.545\n",
            "Epoch: 08 | Time: 3m 8s\n",
            "\tTrain Loss: 0.989\n",
            "\t Val. Loss: 2.610\n",
            "Epoch: 09 | Time: 3m 6s\n",
            "\tTrain Loss: 0.922\n",
            "\t Val. Loss: 2.660\n",
            "Epoch: 10 | Time: 3m 9s\n",
            "\tTrain Loss: 0.876\n",
            "\t Val. Loss: 2.699\n"
          ]
        }
      ]
    },
    {
      "cell_type": "code",
      "source": [
        "# Trial3. encoder 3 layers, decoder 3 layers, 10 epochs\n",
        "# encoder, decoder layer수가 같으면 더 나을까 해서 해봤는데 큰 차이 없는 것 같긴함\n",
        "\n",
        "N_EPOCHS = 10\n",
        "\n",
        "best_valid_loss = float('inf')\n",
        "\n",
        "for epoch in range(N_EPOCHS):\n",
        "    \n",
        "    start_time = time.time()\n",
        "    \n",
        "    train_loss = train(model, train_iterator, optimizer, criterion)\n",
        "    valid_loss = evaluate(model, valid_iterator, criterion)\n",
        "    \n",
        "    end_time = time.time()\n",
        "    \n",
        "    epoch_mins, epoch_secs = epoch_time(start_time, end_time)\n",
        "    \n",
        "    if valid_loss < best_valid_loss:\n",
        "        best_valid_loss = valid_loss\n",
        "        torch.save(model.state_dict(), 'attn-model.pt')\n",
        "    \n",
        "    print(f'Epoch: {epoch+1:02} | Time: {epoch_mins}m {epoch_secs}s')\n",
        "    print(f'\\tTrain Loss: {train_loss:.3f}')\n",
        "    print(f'\\t Val. Loss: {valid_loss:.3f}')"
      ],
      "metadata": {
        "id": "H7FuZBHv6QTB",
        "colab": {
          "base_uri": "https://localhost:8080/"
        },
        "outputId": "06f43519-19b5-4b4a-fd57-e934864a6aca"
      },
      "execution_count": null,
      "outputs": [
        {
          "output_type": "stream",
          "name": "stdout",
          "text": [
            "Epoch: 01 | Time: 3m 22s\n",
            "\tTrain Loss: 4.611\n",
            "\t Val. Loss: 3.487\n",
            "Epoch: 02 | Time: 3m 16s\n",
            "\tTrain Loss: 2.821\n",
            "\t Val. Loss: 2.759\n",
            "Epoch: 03 | Time: 3m 13s\n",
            "\tTrain Loss: 1.966\n",
            "\t Val. Loss: 2.648\n",
            "Epoch: 04 | Time: 3m 13s\n",
            "\tTrain Loss: 1.545\n",
            "\t Val. Loss: 2.582\n",
            "Epoch: 05 | Time: 3m 12s\n",
            "\tTrain Loss: 1.369\n",
            "\t Val. Loss: 2.593\n",
            "Epoch: 06 | Time: 3m 6s\n",
            "\tTrain Loss: 1.258\n",
            "\t Val. Loss: 2.663\n",
            "Epoch: 07 | Time: 3m 16s\n",
            "\tTrain Loss: 1.173\n",
            "\t Val. Loss: 2.690\n",
            "Epoch: 08 | Time: 3m 17s\n",
            "\tTrain Loss: 1.112\n",
            "\t Val. Loss: 2.752\n",
            "Epoch: 09 | Time: 3m 23s\n",
            "\tTrain Loss: 1.066\n",
            "\t Val. Loss: 2.801\n",
            "Epoch: 10 | Time: 3m 9s\n",
            "\tTrain Loss: 1.035\n",
            "\t Val. Loss: 2.842\n"
          ]
        }
      ]
    },
    {
      "cell_type": "code",
      "source": [
        "# Trial4. encoder 3 layers, decoder 3 layers, 10 epochs\n",
        "# encoder/decoder hidden dimension을 512-->1024\n",
        "# --> 성능이 오히려 더 안좋아짐, hidden dimension은 512로 유지하기\n",
        "\n",
        "N_EPOCHS = 10\n",
        "\n",
        "best_valid_loss = float('inf')\n",
        "\n",
        "for epoch in range(N_EPOCHS):\n",
        "    \n",
        "    start_time = time.time()\n",
        "    \n",
        "    train_loss = train(model, train_iterator, optimizer, criterion)\n",
        "    valid_loss = evaluate(model, valid_iterator, criterion)\n",
        "    \n",
        "    end_time = time.time()\n",
        "    \n",
        "    epoch_mins, epoch_secs = epoch_time(start_time, end_time)\n",
        "    \n",
        "    if valid_loss < best_valid_loss:\n",
        "        best_valid_loss = valid_loss\n",
        "        torch.save(model.state_dict(), 'attn-model.pt')\n",
        "    \n",
        "    print(f'Epoch: {epoch+1:02} | Time: {epoch_mins}m {epoch_secs}s')\n",
        "    print(f'\\tTrain Loss: {train_loss:.3f}')\n",
        "    print(f'\\t Val. Loss: {valid_loss:.3f}')"
      ],
      "metadata": {
        "colab": {
          "base_uri": "https://localhost:8080/"
        },
        "id": "trTKzap1FZ0g",
        "outputId": "6e2b1ec5-03b8-4aa0-a65d-fe983154eb98"
      },
      "execution_count": null,
      "outputs": [
        {
          "output_type": "stream",
          "name": "stdout",
          "text": [
            "Epoch: 01 | Time: 7m 36s\n",
            "\tTrain Loss: 4.494\n",
            "\t Val. Loss: 3.744\n",
            "Epoch: 02 | Time: 7m 39s\n",
            "\tTrain Loss: 2.771\n",
            "\t Val. Loss: 2.824\n",
            "Epoch: 03 | Time: 7m 32s\n",
            "\tTrain Loss: 2.016\n",
            "\t Val. Loss: 2.753\n",
            "Epoch: 04 | Time: 7m 28s\n",
            "\tTrain Loss: 1.649\n",
            "\t Val. Loss: 2.776\n",
            "Epoch: 05 | Time: 7m 32s\n",
            "\tTrain Loss: 1.488\n",
            "\t Val. Loss: 2.804\n",
            "Epoch: 06 | Time: 7m 37s\n",
            "\tTrain Loss: 1.424\n",
            "\t Val. Loss: 2.870\n",
            "Epoch: 07 | Time: 7m 32s\n",
            "\tTrain Loss: 1.381\n",
            "\t Val. Loss: 3.041\n",
            "Epoch: 08 | Time: 7m 35s\n",
            "\tTrain Loss: 1.420\n",
            "\t Val. Loss: 3.136\n",
            "Epoch: 09 | Time: 7m 32s\n",
            "\tTrain Loss: 1.491\n",
            "\t Val. Loss: 3.288\n",
            "Epoch: 10 | Time: 7m 32s\n",
            "\tTrain Loss: 1.537\n",
            "\t Val. Loss: 3.393\n"
          ]
        }
      ]
    },
    {
      "cell_type": "code",
      "source": [
        "# Trial5. encoder 3 layers, decoder 3 layers, 10 epochs, encoder/decoder hidden dimension 1024-->512 again (same as Trial3)\n",
        "# But teacher forcing ratio is 0.3\n",
        "\n",
        "####### teacher forcing ratio 바꾸기 위해 train function 재정의\n",
        "def train(model, iterator, optimizer, criterion):\n",
        "    model.train()\n",
        "    epoch_loss = 0\n",
        "    for i, batch in enumerate(iterator):\n",
        "        src = batch.src\n",
        "        trg = batch.trg\n",
        "        optimizer.zero_grad()\n",
        "        output = model(src, trg, 0.3) # teacher forcing ratio = 0.3\n",
        "        output_dim = output.shape[-1]\n",
        "        output = output[1:].view(-1, output_dim)\n",
        "        trg = trg[1:].view(-1)\n",
        "        loss = criterion(output, trg)\n",
        "        loss.backward()\n",
        "        optimizer.step()\n",
        "        epoch_loss += loss.item()\n",
        "    return epoch_loss / len(iterator)\n",
        "#######\n",
        "\n",
        "N_EPOCHS = 10\n",
        "\n",
        "best_valid_loss = float('inf')\n",
        "\n",
        "for epoch in range(N_EPOCHS):\n",
        "    \n",
        "    start_time = time.time()\n",
        "    \n",
        "    train_loss = train(model, train_iterator, optimizer, criterion)\n",
        "    valid_loss = evaluate(model, valid_iterator, criterion)\n",
        "    \n",
        "    end_time = time.time()\n",
        "    \n",
        "    epoch_mins, epoch_secs = epoch_time(start_time, end_time)\n",
        "    \n",
        "    if valid_loss < best_valid_loss:\n",
        "        best_valid_loss = valid_loss\n",
        "        torch.save(model.state_dict(), 'attn-model.pt')\n",
        "    \n",
        "    print(f'Epoch: {epoch+1:02} | Time: {epoch_mins}m {epoch_secs}s')\n",
        "    print(f'\\tTrain Loss: {train_loss:.3f}')\n",
        "    print(f'\\t Val. Loss: {valid_loss:.3f}')"
      ],
      "metadata": {
        "colab": {
          "base_uri": "https://localhost:8080/"
        },
        "id": "23m5IgfhYxIo",
        "outputId": "78bac2ce-6b7a-46d9-a146-84ee36ee56e4"
      },
      "execution_count": null,
      "outputs": [
        {
          "output_type": "stream",
          "name": "stdout",
          "text": [
            "Epoch: 01 | Time: 3m 16s\n",
            "\tTrain Loss: 4.819\n",
            "\t Val. Loss: 3.556\n",
            "Epoch: 02 | Time: 3m 16s\n",
            "\tTrain Loss: 3.066\n",
            "\t Val. Loss: 2.798\n",
            "Epoch: 03 | Time: 3m 20s\n",
            "\tTrain Loss: 2.159\n",
            "\t Val. Loss: 2.646\n",
            "Epoch: 04 | Time: 3m 17s\n",
            "\tTrain Loss: 1.732\n",
            "\t Val. Loss: 2.477\n",
            "Epoch: 05 | Time: 3m 13s\n",
            "\tTrain Loss: 1.514\n",
            "\t Val. Loss: 2.503\n",
            "Epoch: 06 | Time: 3m 12s\n",
            "\tTrain Loss: 1.393\n",
            "\t Val. Loss: 2.487\n",
            "Epoch: 07 | Time: 3m 13s\n",
            "\tTrain Loss: 1.303\n",
            "\t Val. Loss: 2.538\n",
            "Epoch: 08 | Time: 3m 13s\n",
            "\tTrain Loss: 1.235\n",
            "\t Val. Loss: 2.593\n",
            "Epoch: 09 | Time: 3m 11s\n",
            "\tTrain Loss: 1.186\n",
            "\t Val. Loss: 2.643\n",
            "Epoch: 10 | Time: 3m 13s\n",
            "\tTrain Loss: 1.155\n",
            "\t Val. Loss: 2.687\n"
          ]
        }
      ]
    },
    {
      "cell_type": "code",
      "source": [
        "# 성능이 자꾸 안나와서 혹시 핀란드어가 너무 어려워서 그런가하고 다른 언어 데이터(한국어)를 사용해봄\n",
        "# Trial6. KOREAN DATA\n",
        "# encoder 3 layers, decoder 3 layers, 10 epochs, encoder/decoder hidden dimension 512\n",
        "# teacher forcing ratio = 0.5\n",
        "\n",
        "N_EPOCHS = 10\n",
        "\n",
        "best_valid_loss = float('inf')\n",
        "\n",
        "for epoch in range(N_EPOCHS):\n",
        "    \n",
        "    start_time = time.time()\n",
        "    \n",
        "    train_loss = train(model, train_iterator, optimizer, criterion)\n",
        "    valid_loss = evaluate(model, valid_iterator, criterion)\n",
        "    \n",
        "    end_time = time.time()\n",
        "    \n",
        "    epoch_mins, epoch_secs = epoch_time(start_time, end_time)\n",
        "    \n",
        "    if valid_loss < best_valid_loss:\n",
        "        best_valid_loss = valid_loss\n",
        "        torch.save(model.state_dict(), 'attn-model.pt')\n",
        "    \n",
        "    print(f'Epoch: {epoch+1:02} | Time: {epoch_mins}m {epoch_secs}s')\n",
        "    print(f'\\tTrain Loss: {train_loss:.3f}')\n",
        "    print(f'\\t Val. Loss: {valid_loss:.3f}')"
      ],
      "metadata": {
        "colab": {
          "base_uri": "https://localhost:8080/"
        },
        "id": "tiN22uINqyef",
        "outputId": "22df0767-11d7-4c17-a91d-866cc780666f"
      },
      "execution_count": null,
      "outputs": [
        {
          "output_type": "stream",
          "name": "stdout",
          "text": [
            "Epoch: 01 | Time: 0m 16s\n",
            "\tTrain Loss: 4.745\n",
            "\t Val. Loss: 3.631\n",
            "Epoch: 02 | Time: 0m 17s\n",
            "\tTrain Loss: 3.276\n",
            "\t Val. Loss: 3.345\n",
            "Epoch: 03 | Time: 0m 16s\n",
            "\tTrain Loss: 2.371\n",
            "\t Val. Loss: 3.173\n",
            "Epoch: 04 | Time: 0m 16s\n",
            "\tTrain Loss: 1.744\n",
            "\t Val. Loss: 3.119\n",
            "Epoch: 05 | Time: 0m 16s\n",
            "\tTrain Loss: 1.404\n",
            "\t Val. Loss: 3.081\n",
            "Epoch: 06 | Time: 0m 16s\n",
            "\tTrain Loss: 1.185\n",
            "\t Val. Loss: 3.152\n",
            "Epoch: 07 | Time: 0m 17s\n",
            "\tTrain Loss: 1.009\n",
            "\t Val. Loss: 3.183\n",
            "Epoch: 08 | Time: 0m 16s\n",
            "\tTrain Loss: 0.899\n",
            "\t Val. Loss: 3.226\n",
            "Epoch: 09 | Time: 0m 16s\n",
            "\tTrain Loss: 0.778\n",
            "\t Val. Loss: 3.301\n",
            "Epoch: 10 | Time: 0m 16s\n",
            "\tTrain Loss: 0.680\n",
            "\t Val. Loss: 3.349\n"
          ]
        }
      ]
    },
    {
      "cell_type": "code",
      "source": [
        "# Trial7. KOREAN DATA\n",
        "# 데이터가 적어서 레이어 수를 줄이고 에포크를 늘려봄\n",
        "# encoder 1 layers, decoder 1 layers, 30 epochs, encoder/decoder hidden dimension 512\n",
        "# teacher forcing ratio = 0.5\n",
        "\n",
        "N_EPOCHS = 30\n",
        "\n",
        "best_valid_loss = float('inf')\n",
        "\n",
        "for epoch in range(N_EPOCHS):\n",
        "    \n",
        "    start_time = time.time()\n",
        "    \n",
        "    train_loss = train(model, train_iterator, optimizer, criterion)\n",
        "    valid_loss = evaluate(model, valid_iterator, criterion)\n",
        "    \n",
        "    end_time = time.time()\n",
        "    \n",
        "    epoch_mins, epoch_secs = epoch_time(start_time, end_time)\n",
        "    \n",
        "    if valid_loss < best_valid_loss:\n",
        "        best_valid_loss = valid_loss\n",
        "        torch.save(model.state_dict(), 'attn-model.pt')\n",
        "    \n",
        "    print(f'Epoch: {epoch+1:02} | Time: {epoch_mins}m {epoch_secs}s')\n",
        "    print(f'\\tTrain Loss: {train_loss:.3f}')\n",
        "    print(f'\\t Val. Loss: {valid_loss:.3f}')"
      ],
      "metadata": {
        "colab": {
          "base_uri": "https://localhost:8080/"
        },
        "id": "X0Hwv2ky1RyP",
        "outputId": "7b736909-d446-4b03-dcb2-76113c04acee"
      },
      "execution_count": null,
      "outputs": [
        {
          "output_type": "stream",
          "name": "stdout",
          "text": [
            "Epoch: 01 | Time: 0m 5s\n",
            "\tTrain Loss: 5.006\n",
            "\t Val. Loss: 3.984\n",
            "Epoch: 02 | Time: 0m 5s\n",
            "\tTrain Loss: 4.201\n",
            "\t Val. Loss: 3.876\n",
            "Epoch: 03 | Time: 0m 5s\n",
            "\tTrain Loss: 3.962\n",
            "\t Val. Loss: 3.624\n",
            "Epoch: 04 | Time: 0m 5s\n",
            "\tTrain Loss: 3.662\n",
            "\t Val. Loss: 3.522\n",
            "Epoch: 05 | Time: 0m 5s\n",
            "\tTrain Loss: 3.410\n",
            "\t Val. Loss: 3.440\n",
            "Epoch: 06 | Time: 0m 5s\n",
            "\tTrain Loss: 3.226\n",
            "\t Val. Loss: 3.364\n",
            "Epoch: 07 | Time: 0m 5s\n",
            "\tTrain Loss: 3.032\n",
            "\t Val. Loss: 3.384\n",
            "Epoch: 08 | Time: 0m 5s\n",
            "\tTrain Loss: 2.789\n",
            "\t Val. Loss: 3.277\n",
            "Epoch: 09 | Time: 0m 5s\n",
            "\tTrain Loss: 2.545\n",
            "\t Val. Loss: 3.400\n",
            "Epoch: 10 | Time: 0m 5s\n",
            "\tTrain Loss: 2.339\n",
            "\t Val. Loss: 3.336\n",
            "Epoch: 11 | Time: 0m 5s\n",
            "\tTrain Loss: 2.073\n",
            "\t Val. Loss: 3.314\n",
            "Epoch: 12 | Time: 0m 5s\n",
            "\tTrain Loss: 1.792\n",
            "\t Val. Loss: 3.328\n",
            "Epoch: 13 | Time: 0m 5s\n",
            "\tTrain Loss: 1.528\n",
            "\t Val. Loss: 3.327\n",
            "Epoch: 14 | Time: 0m 5s\n",
            "\tTrain Loss: 1.273\n",
            "\t Val. Loss: 3.355\n",
            "Epoch: 15 | Time: 0m 5s\n",
            "\tTrain Loss: 1.035\n",
            "\t Val. Loss: 3.516\n",
            "Epoch: 16 | Time: 0m 5s\n",
            "\tTrain Loss: 0.879\n",
            "\t Val. Loss: 3.536\n",
            "Epoch: 17 | Time: 0m 6s\n",
            "\tTrain Loss: 0.728\n",
            "\t Val. Loss: 3.562\n",
            "Epoch: 18 | Time: 0m 5s\n",
            "\tTrain Loss: 0.614\n",
            "\t Val. Loss: 3.613\n",
            "Epoch: 19 | Time: 0m 5s\n",
            "\tTrain Loss: 0.520\n",
            "\t Val. Loss: 3.734\n",
            "Epoch: 20 | Time: 0m 5s\n",
            "\tTrain Loss: 0.461\n",
            "\t Val. Loss: 3.760\n",
            "Epoch: 21 | Time: 0m 5s\n",
            "\tTrain Loss: 0.374\n",
            "\t Val. Loss: 3.843\n",
            "Epoch: 22 | Time: 0m 5s\n",
            "\tTrain Loss: 0.326\n",
            "\t Val. Loss: 3.909\n",
            "Epoch: 23 | Time: 0m 5s\n",
            "\tTrain Loss: 0.296\n",
            "\t Val. Loss: 3.975\n",
            "Epoch: 24 | Time: 0m 5s\n",
            "\tTrain Loss: 0.264\n",
            "\t Val. Loss: 4.057\n",
            "Epoch: 25 | Time: 0m 5s\n",
            "\tTrain Loss: 0.263\n",
            "\t Val. Loss: 4.085\n",
            "Epoch: 26 | Time: 0m 5s\n",
            "\tTrain Loss: 0.251\n",
            "\t Val. Loss: 4.120\n",
            "Epoch: 27 | Time: 0m 5s\n",
            "\tTrain Loss: 0.243\n",
            "\t Val. Loss: 4.161\n",
            "Epoch: 28 | Time: 0m 5s\n",
            "\tTrain Loss: 0.226\n",
            "\t Val. Loss: 4.208\n",
            "Epoch: 29 | Time: 0m 5s\n",
            "\tTrain Loss: 0.216\n",
            "\t Val. Loss: 4.197\n",
            "Epoch: 30 | Time: 0m 6s\n",
            "\tTrain Loss: 0.209\n",
            "\t Val. Loss: 4.262\n"
          ]
        }
      ]
    },
    {
      "cell_type": "code",
      "source": [
        "# 언어의 문제가 아니었던 것 같음..\n",
        "# Trial8. RETURN TO FINNISH...\n",
        "# encoder 3 layers, decoder 3 layers, 10 epochs, encoder/decoder hidden dimension 512 again\n",
        "# But teacher forcing ratio is 0.7\n",
        "# --> teacher forcing ratio를 늘리니까 성능이 더 안좋아짐\n",
        "\n",
        "####### teacher forcing ratio 바꾸기 위해 train function 재정의\n",
        "def train(model, iterator, optimizer, criterion):\n",
        "    model.train()\n",
        "    epoch_loss = 0\n",
        "    for i, batch in enumerate(iterator):\n",
        "        src = batch.src\n",
        "        trg = batch.trg\n",
        "        optimizer.zero_grad()\n",
        "        output = model(src, trg, 0.7) # teacher forcing ratio = 0.7\n",
        "        output_dim = output.shape[-1]\n",
        "        output = output[1:].view(-1, output_dim)\n",
        "        trg = trg[1:].view(-1)\n",
        "        loss = criterion(output, trg)\n",
        "        loss.backward()\n",
        "        optimizer.step()\n",
        "        epoch_loss += loss.item()\n",
        "    return epoch_loss / len(iterator)\n",
        "#######\n",
        "\n",
        "N_EPOCHS = 10\n",
        "\n",
        "best_valid_loss = float('inf')\n",
        "\n",
        "for epoch in range(N_EPOCHS):\n",
        "    \n",
        "    start_time = time.time()\n",
        "    \n",
        "    train_loss = train(model, train_iterator, optimizer, criterion)\n",
        "    valid_loss = evaluate(model, valid_iterator, criterion)\n",
        "    \n",
        "    end_time = time.time()\n",
        "    \n",
        "    epoch_mins, epoch_secs = epoch_time(start_time, end_time)\n",
        "    \n",
        "    if valid_loss < best_valid_loss:\n",
        "        best_valid_loss = valid_loss\n",
        "        torch.save(model.state_dict(), 'attn-model.pt')\n",
        "    \n",
        "    print(f'Epoch: {epoch+1:02} | Time: {epoch_mins}m {epoch_secs}s')\n",
        "    print(f'\\tTrain Loss: {train_loss:.3f}')\n",
        "    print(f'\\t Val. Loss: {valid_loss:.3f}')"
      ],
      "metadata": {
        "colab": {
          "base_uri": "https://localhost:8080/"
        },
        "id": "4jhhYLgIAMDs",
        "outputId": "664245d7-cb86-4577-f8b3-396be29ae358"
      },
      "execution_count": 26,
      "outputs": [
        {
          "output_type": "stream",
          "name": "stdout",
          "text": [
            "Epoch: 01 | Time: 3m 10s\n",
            "\tTrain Loss: 4.483\n",
            "\t Val. Loss: 3.605\n",
            "Epoch: 02 | Time: 3m 7s\n",
            "\tTrain Loss: 2.657\n",
            "\t Val. Loss: 2.854\n",
            "Epoch: 03 | Time: 2m 55s\n",
            "\tTrain Loss: 1.788\n",
            "\t Val. Loss: 2.803\n",
            "Epoch: 04 | Time: 2m 57s\n",
            "\tTrain Loss: 1.384\n",
            "\t Val. Loss: 2.715\n",
            "Epoch: 05 | Time: 3m 2s\n",
            "\tTrain Loss: 1.199\n",
            "\t Val. Loss: 2.779\n",
            "Epoch: 06 | Time: 3m 0s\n",
            "\tTrain Loss: 1.089\n",
            "\t Val. Loss: 2.804\n",
            "Epoch: 07 | Time: 3m 6s\n",
            "\tTrain Loss: 1.006\n",
            "\t Val. Loss: 2.905\n",
            "Epoch: 08 | Time: 3m 0s\n",
            "\tTrain Loss: 0.946\n",
            "\t Val. Loss: 2.941\n",
            "Epoch: 09 | Time: 2m 59s\n",
            "\tTrain Loss: 0.905\n",
            "\t Val. Loss: 3.008\n",
            "Epoch: 10 | Time: 3m 0s\n",
            "\tTrain Loss: 0.866\n",
            "\t Val. Loss: 3.125\n"
          ]
        }
      ]
    },
    {
      "cell_type": "code",
      "source": [
        "# Trial9. Trial8에서 layer수를 줄이면 어떨까하고 시도해봄\n",
        "# encoder 1 layer, decoder 1 layer, 10 epochs, encoder/decoder hidden dimension 512 again\n",
        "# teacher forcing ratio 0.7\n",
        "\n",
        "####### teacher forcing ratio 바꾸기 위해 train function 재정의\n",
        "def train(model, iterator, optimizer, criterion):\n",
        "    model.train()\n",
        "    epoch_loss = 0\n",
        "    for i, batch in enumerate(iterator):\n",
        "        src = batch.src\n",
        "        trg = batch.trg\n",
        "        optimizer.zero_grad()\n",
        "        output = model(src, trg, 0.7) # teacher forcing ratio = 0.7\n",
        "        output_dim = output.shape[-1]\n",
        "        output = output[1:].view(-1, output_dim)\n",
        "        trg = trg[1:].view(-1)\n",
        "        loss = criterion(output, trg)\n",
        "        loss.backward()\n",
        "        optimizer.step()\n",
        "        epoch_loss += loss.item()\n",
        "    return epoch_loss / len(iterator)\n",
        "#######\n",
        "\n",
        "N_EPOCHS = 10\n",
        "\n",
        "best_valid_loss = float('inf')\n",
        "\n",
        "for epoch in range(N_EPOCHS):\n",
        "    \n",
        "    start_time = time.time()\n",
        "    \n",
        "    train_loss = train(model, train_iterator, optimizer, criterion)\n",
        "    valid_loss = evaluate(model, valid_iterator, criterion)\n",
        "    \n",
        "    end_time = time.time()\n",
        "    \n",
        "    epoch_mins, epoch_secs = epoch_time(start_time, end_time)\n",
        "    \n",
        "    if valid_loss < best_valid_loss:\n",
        "        best_valid_loss = valid_loss\n",
        "        torch.save(model.state_dict(), 'attn-model.pt')\n",
        "    \n",
        "    print(f'Epoch: {epoch+1:02} | Time: {epoch_mins}m {epoch_secs}s')\n",
        "    print(f'\\tTrain Loss: {train_loss:.3f}')\n",
        "    print(f'\\t Val. Loss: {valid_loss:.3f}')"
      ],
      "metadata": {
        "colab": {
          "base_uri": "https://localhost:8080/"
        },
        "id": "-MluiT9l2VzQ",
        "outputId": "d73f476b-ac0c-449f-9c00-a019db8952d7"
      },
      "execution_count": null,
      "outputs": [
        {
          "output_type": "stream",
          "name": "stdout",
          "text": [
            "Epoch: 01 | Time: 2m 39s\n",
            "\tTrain Loss: 4.604\n",
            "\t Val. Loss: 3.766\n",
            "Epoch: 02 | Time: 2m 39s\n",
            "\tTrain Loss: 2.734\n",
            "\t Val. Loss: 2.855\n",
            "Epoch: 03 | Time: 2m 40s\n",
            "\tTrain Loss: 1.738\n",
            "\t Val. Loss: 2.677\n",
            "Epoch: 04 | Time: 2m 40s\n",
            "\tTrain Loss: 1.220\n",
            "\t Val. Loss: 2.630\n",
            "Epoch: 05 | Time: 2m 38s\n",
            "\tTrain Loss: 0.969\n",
            "\t Val. Loss: 2.610\n",
            "Epoch: 06 | Time: 2m 40s\n",
            "\tTrain Loss: 0.825\n",
            "\t Val. Loss: 2.716\n",
            "Epoch: 07 | Time: 2m 43s\n",
            "\tTrain Loss: 0.720\n",
            "\t Val. Loss: 2.769\n",
            "Epoch: 08 | Time: 2m 39s\n",
            "\tTrain Loss: 0.640\n",
            "\t Val. Loss: 2.837\n",
            "Epoch: 09 | Time: 2m 39s\n",
            "\tTrain Loss: 0.581\n",
            "\t Val. Loss: 2.910\n",
            "Epoch: 10 | Time: 2m 40s\n",
            "\tTrain Loss: 0.541\n",
            "\t Val. Loss: 3.001\n"
          ]
        }
      ]
    },
    {
      "cell_type": "code",
      "source": [
        "# Trial10.\n",
        "# teacher forcing을 0.3으로 줄인 Trial5의 성능이 가장 좋았던 거 같고\n",
        "# Trial 8에서 teacher forcing을 늘리니 성능이 더 줄어듦 --> teacher forcing을 0.2로 더 줄여서 돌려봄\n",
        "# Trial 8에서 Trial 9로 넘어가며, 동일한 조건에서 layer 수만 줄였는데 성능이 향상됨\n",
        "# layer 수를 (계속 주로 사용하던) 3에서 2로 줄여서 돌려봄\n",
        "\n",
        "# encoder 2 layers, decoder 2 layers, 10 epochs, encoder/decoder hidden dimension 512 again\n",
        "# But teacher forcing ratio is 0.2\n",
        "\n",
        "####### teacher forcing ratio 바꾸기 위해 train function 재정의\n",
        "def train(model, iterator, optimizer, criterion):\n",
        "    model.train()\n",
        "    epoch_loss = 0\n",
        "    for i, batch in enumerate(iterator):\n",
        "        src = batch.src\n",
        "        trg = batch.trg\n",
        "        optimizer.zero_grad()\n",
        "        output = model(src, trg, 0.2) # teacher forcing ratio = 0.2\n",
        "        output_dim = output.shape[-1]\n",
        "        output = output[1:].view(-1, output_dim)\n",
        "        trg = trg[1:].view(-1)\n",
        "        loss = criterion(output, trg)\n",
        "        loss.backward()\n",
        "        optimizer.step()\n",
        "        epoch_loss += loss.item()\n",
        "    return epoch_loss / len(iterator)\n",
        "#######\n",
        "\n",
        "N_EPOCHS = 10\n",
        "\n",
        "best_valid_loss = float('inf')\n",
        "\n",
        "for epoch in range(N_EPOCHS):\n",
        "    \n",
        "    start_time = time.time()\n",
        "    \n",
        "    train_loss = train(model, train_iterator, optimizer, criterion)\n",
        "    valid_loss = evaluate(model, valid_iterator, criterion)\n",
        "    \n",
        "    end_time = time.time()\n",
        "    \n",
        "    epoch_mins, epoch_secs = epoch_time(start_time, end_time)\n",
        "    \n",
        "    if valid_loss < best_valid_loss:\n",
        "        best_valid_loss = valid_loss\n",
        "        torch.save(model.state_dict(), 'attn-model.pt')\n",
        "    \n",
        "    print(f'Epoch: {epoch+1:02} | Time: {epoch_mins}m {epoch_secs}s')\n",
        "    print(f'\\tTrain Loss: {train_loss:.3f}')\n",
        "    print(f'\\t Val. Loss: {valid_loss:.3f}')"
      ],
      "metadata": {
        "colab": {
          "base_uri": "https://localhost:8080/"
        },
        "id": "IO0rHL-3GgsJ",
        "outputId": "a68edd9f-9654-435f-c510-3dead0478ff2"
      },
      "execution_count": 38,
      "outputs": [
        {
          "output_type": "stream",
          "name": "stdout",
          "text": [
            "Epoch: 01 | Time: 2m 53s\n",
            "\tTrain Loss: 4.829\n",
            "\t Val. Loss: 3.772\n",
            "Epoch: 02 | Time: 2m 51s\n",
            "\tTrain Loss: 3.062\n",
            "\t Val. Loss: 2.666\n",
            "Epoch: 03 | Time: 2m 50s\n",
            "\tTrain Loss: 2.135\n",
            "\t Val. Loss: 2.369\n",
            "Epoch: 04 | Time: 2m 51s\n",
            "\tTrain Loss: 1.686\n",
            "\t Val. Loss: 2.361\n",
            "Epoch: 05 | Time: 2m 50s\n",
            "\tTrain Loss: 1.463\n",
            "\t Val. Loss: 2.379\n",
            "Epoch: 06 | Time: 2m 58s\n",
            "\tTrain Loss: 1.335\n",
            "\t Val. Loss: 2.362\n",
            "Epoch: 07 | Time: 2m 57s\n",
            "\tTrain Loss: 1.220\n",
            "\t Val. Loss: 2.411\n",
            "Epoch: 08 | Time: 2m 43s\n",
            "\tTrain Loss: 1.153\n",
            "\t Val. Loss: 2.493\n",
            "Epoch: 09 | Time: 2m 55s\n",
            "\tTrain Loss: 1.091\n",
            "\t Val. Loss: 2.477\n",
            "Epoch: 10 | Time: 2m 41s\n",
            "\tTrain Loss: 1.036\n",
            "\t Val. Loss: 2.584\n"
          ]
        }
      ]
    },
    {
      "cell_type": "code",
      "source": [
        "# Trial 11.\n",
        "# Loss는 Trial 10이 가장 낮지만 BLEU score는 Trial10보다 Trial9가 더 높음(Trial 10의 inference 결과도 좋지않음)\n",
        "\n",
        "# --> 이 둘을 절충한 모델을 한번 돌려봄\n",
        "# teacher forcing 0.5\n",
        "# encoder 1 layer, decoder 1 layer\n",
        "\n",
        "# 10 epochs, encoder/decoder hidden dimension 512 again\n",
        "# gradient clipping도 적용해봄\n",
        "\n",
        "####### clipping 적용 위해 train function 재정의\n",
        "def train(model, iterator, optimizer, criterion, clip):\n",
        "    model.train()\n",
        "    epoch_loss = 0\n",
        "    for i, batch in enumerate(iterator):\n",
        "        src = batch.src\n",
        "        trg = batch.trg\n",
        "        optimizer.zero_grad()\n",
        "        output = model(src, trg)\n",
        "        output_dim = output.shape[-1]\n",
        "        output = output[1:].view(-1, output_dim)\n",
        "        trg = trg[1:].view(-1)\n",
        "        loss = criterion(output, trg)\n",
        "        loss.backward()\n",
        "        torch.nn.utils.clip_grad_norm_(model.parameters(), clip)\n",
        "        optimizer.step()\n",
        "        epoch_loss += loss.item()\n",
        "    return epoch_loss / len(iterator)\n",
        "#######\n",
        "\n",
        "N_EPOCHS = 10\n",
        "CLIP = 1\n",
        "\n",
        "best_valid_loss = float('inf')\n",
        "\n",
        "for epoch in range(N_EPOCHS):\n",
        "    \n",
        "    start_time = time.time()\n",
        "    \n",
        "    train_loss = train(model, train_iterator, optimizer, criterion, CLIP)\n",
        "    valid_loss = evaluate(model, valid_iterator, criterion)\n",
        "    \n",
        "    end_time = time.time()\n",
        "    \n",
        "    epoch_mins, epoch_secs = epoch_time(start_time, end_time)\n",
        "    \n",
        "    if valid_loss < best_valid_loss:\n",
        "        best_valid_loss = valid_loss\n",
        "        torch.save(model.state_dict(), 'attn-model.pt')\n",
        "    \n",
        "    print(f'Epoch: {epoch+1:02} | Time: {epoch_mins}m {epoch_secs}s')\n",
        "    print(f'\\tTrain Loss: {train_loss:.3f}')\n",
        "    print(f'\\t Val. Loss: {valid_loss:.3f}')"
      ],
      "metadata": {
        "colab": {
          "base_uri": "https://localhost:8080/"
        },
        "id": "pPyH9YR3TFOT",
        "outputId": "e865a056-67f1-4dfb-a179-6771faf77ee7"
      },
      "execution_count": 48,
      "outputs": [
        {
          "output_type": "stream",
          "name": "stdout",
          "text": [
            "Epoch: 01 | Time: 2m 36s\n",
            "\tTrain Loss: 4.554\n",
            "\t Val. Loss: 3.591\n",
            "Epoch: 02 | Time: 2m 38s\n",
            "\tTrain Loss: 2.775\n",
            "\t Val. Loss: 2.641\n",
            "Epoch: 03 | Time: 2m 36s\n",
            "\tTrain Loss: 1.832\n",
            "\t Val. Loss: 2.414\n",
            "Epoch: 04 | Time: 2m 36s\n",
            "\tTrain Loss: 1.343\n",
            "\t Val. Loss: 2.394\n",
            "Epoch: 05 | Time: 2m 25s\n",
            "\tTrain Loss: 1.093\n",
            "\t Val. Loss: 2.421\n",
            "Epoch: 06 | Time: 2m 22s\n",
            "\tTrain Loss: 0.944\n",
            "\t Val. Loss: 2.463\n",
            "Epoch: 07 | Time: 2m 23s\n",
            "\tTrain Loss: 0.834\n",
            "\t Val. Loss: 2.531\n",
            "Epoch: 08 | Time: 2m 25s\n",
            "\tTrain Loss: 0.757\n",
            "\t Val. Loss: 2.620\n",
            "Epoch: 09 | Time: 2m 36s\n",
            "\tTrain Loss: 0.699\n",
            "\t Val. Loss: 2.663\n",
            "Epoch: 10 | Time: 2m 32s\n",
            "\tTrain Loss: 0.656\n",
            "\t Val. Loss: 2.708\n"
          ]
        }
      ]
    },
    {
      "cell_type": "markdown",
      "metadata": {
        "id": "7l737GJMzdr4"
      },
      "source": [
        "### 6. Evaluating and BLEU score"
      ]
    },
    {
      "cell_type": "code",
      "execution_count": null,
      "metadata": {
        "id": "ow1JdtsfNI-1",
        "colab": {
          "base_uri": "https://localhost:8080/"
        },
        "outputId": "c8496952-0b85-4dff-cefe-f473719780c5"
      },
      "outputs": [
        {
          "output_type": "stream",
          "name": "stdout",
          "text": [
            "| Test Loss: 2.538\n"
          ]
        }
      ],
      "source": [
        "# Trial3 results\n",
        "# Loss values during model evaluation\n",
        "\n",
        "model.load_state_dict(torch.load('attn-model.pt'))\n",
        "\n",
        "test_loss = evaluate(model, test_iterator, criterion)\n",
        "\n",
        "print(f'| Test Loss: {test_loss:.3f}')"
      ]
    },
    {
      "cell_type": "code",
      "source": [
        "# Trial4 results\n",
        "# Loss values during model evaluation\n",
        "\n",
        "model.load_state_dict(torch.load('attn-model.pt'))\n",
        "\n",
        "test_loss = evaluate(model, test_iterator, criterion)\n",
        "\n",
        "print(f'| Test Loss: {test_loss:.3f}')"
      ],
      "metadata": {
        "colab": {
          "base_uri": "https://localhost:8080/"
        },
        "id": "GeLRoXhyPPPc",
        "outputId": "18978ddd-a4ef-4091-f60a-5aad05f63a76"
      },
      "execution_count": null,
      "outputs": [
        {
          "output_type": "stream",
          "name": "stdout",
          "text": [
            "| Test Loss: 2.716\n"
          ]
        }
      ]
    },
    {
      "cell_type": "code",
      "source": [
        "# Trial5 results\n",
        "# Loss values during model evaluation\n",
        "\n",
        "model.load_state_dict(torch.load('attn-model.pt'))\n",
        "\n",
        "test_loss = evaluate(model, test_iterator, criterion)\n",
        "\n",
        "print(f'| Test Loss: {test_loss:.3f}')"
      ],
      "metadata": {
        "colab": {
          "base_uri": "https://localhost:8080/"
        },
        "id": "BgFTswwIaMPZ",
        "outputId": "2e980744-08e6-4054-d981-f0352e5f6b2d"
      },
      "execution_count": null,
      "outputs": [
        {
          "output_type": "stream",
          "name": "stdout",
          "text": [
            "| Test Loss: 2.455\n"
          ]
        }
      ]
    },
    {
      "cell_type": "code",
      "source": [
        "# Trial7 results (KOREAN)\n",
        "# Loss values during model evaluation\n",
        "\n",
        "model.load_state_dict(torch.load('attn-model.pt'))\n",
        "\n",
        "test_loss = evaluate(model, test_iterator, criterion)\n",
        "\n",
        "print(f'| Test Loss: {test_loss:.3f}')"
      ],
      "metadata": {
        "colab": {
          "base_uri": "https://localhost:8080/"
        },
        "id": "pAtDeyzTrm-r",
        "outputId": "be9ee5ee-3a21-49b5-c1fe-d07a7b76b4fd"
      },
      "execution_count": null,
      "outputs": [
        {
          "output_type": "stream",
          "name": "stdout",
          "text": [
            "| Test Loss: 3.283\n"
          ]
        }
      ]
    },
    {
      "cell_type": "code",
      "source": [
        "# Trial8 results\n",
        "# Loss values during model evaluation\n",
        "\n",
        "model.load_state_dict(torch.load('attn-model.pt'))\n",
        "\n",
        "test_loss = evaluate(model, test_iterator, criterion)\n",
        "\n",
        "print(f'| Test Loss: {test_loss:.3f}')"
      ],
      "metadata": {
        "id": "go0wWVOpA4Dj",
        "colab": {
          "base_uri": "https://localhost:8080/"
        },
        "outputId": "cdce6544-b8a1-4289-fccf-33bd5c0a4c6e"
      },
      "execution_count": 27,
      "outputs": [
        {
          "output_type": "stream",
          "name": "stdout",
          "text": [
            "| Test Loss: 2.706\n"
          ]
        }
      ]
    },
    {
      "cell_type": "code",
      "source": [
        "# Trial9 results\n",
        "# Loss values during model evaluation\n",
        "\n",
        "model.load_state_dict(torch.load('attn-model.pt'))\n",
        "\n",
        "test_loss = evaluate(model, test_iterator, criterion)\n",
        "\n",
        "print(f'| Test Loss: {test_loss:.3f}')"
      ],
      "metadata": {
        "colab": {
          "base_uri": "https://localhost:8080/"
        },
        "id": "aAM1wbzX7FoM",
        "outputId": "5f931cc7-f25b-48ff-f20d-3973dc219a4a"
      },
      "execution_count": null,
      "outputs": [
        {
          "output_type": "stream",
          "name": "stdout",
          "text": [
            "| Test Loss: 2.587\n"
          ]
        }
      ]
    },
    {
      "cell_type": "code",
      "source": [
        "# Trial10 results\n",
        "# Loss values during model evaluation\n",
        "\n",
        "model.load_state_dict(torch.load('attn-model.pt'))\n",
        "\n",
        "test_loss = evaluate(model, test_iterator, criterion)\n",
        "\n",
        "print(f'| Test Loss: {test_loss:.3f}')"
      ],
      "metadata": {
        "colab": {
          "base_uri": "https://localhost:8080/"
        },
        "id": "cbJaY7xnLxsQ",
        "outputId": "07d51580-b6ec-4178-a4ad-f8fd12607a06"
      },
      "execution_count": 39,
      "outputs": [
        {
          "output_type": "stream",
          "name": "stdout",
          "text": [
            "| Test Loss: 2.350\n"
          ]
        }
      ]
    },
    {
      "cell_type": "code",
      "source": [
        "# Trial11 results\n",
        "# Loss values during model evaluation\n",
        "\n",
        "model.load_state_dict(torch.load('attn-model.pt'))\n",
        "\n",
        "test_loss = evaluate(model, test_iterator, criterion)\n",
        "\n",
        "print(f'| Test Loss: {test_loss:.3f}')"
      ],
      "metadata": {
        "colab": {
          "base_uri": "https://localhost:8080/"
        },
        "id": "zCtaKJwwUouP",
        "outputId": "8090cc1b-b28a-44e9-ae86-0351684cbf32"
      },
      "execution_count": 49,
      "outputs": [
        {
          "output_type": "stream",
          "name": "stdout",
          "text": [
            "| Test Loss: 2.381\n"
          ]
        }
      ]
    },
    {
      "cell_type": "code",
      "execution_count": 28,
      "metadata": {
        "id": "q_qYnnUmBG59"
      },
      "outputs": [],
      "source": [
        "# Inference function\n",
        "\n",
        "def translate_sentence(sentence, src_field, trg_field, model, device, max_len = 100):\n",
        "\n",
        "    model.eval()\n",
        "    \n",
        "    # Input sentence tokenization\n",
        "    tokens = ['<sos>']\n",
        "    if type(sentence) is str:\n",
        "        spacy_eng = spacy.load('en_core_web_sm')\n",
        "        for token in spacy_eng.tokenizer(sentence):\n",
        "            tokens.append(token.text.lower())\n",
        "    else:\n",
        "        for token in sentence:\n",
        "            tokens.append(token.lower())\n",
        "    tokens = tokens + ['<eos>']\n",
        "\n",
        "    # Input sentence를 tensor(embedding)로 변환함\n",
        "    src_indexes = [src_field.vocab.stoi[token] for token in tokens]\n",
        "    src_tensor = torch.LongTensor(src_indexes).unsqueeze(1).to(device)\n",
        "    src_len = torch.LongTensor([len(src_indexes)])\n",
        "    \n",
        "    # Feeding the input sentence embedding into the encoder\n",
        "    with torch.no_grad():\n",
        "        encoder_outputs, hidden = model.encoder(src_tensor)\n",
        "    \n",
        "    # List to hold the indexes of predicted target tokens\n",
        "    # 시작 token은 <sos>\n",
        "    trg_indexes = [trg_field.vocab.stoi['<sos>']]\n",
        "    \n",
        "    # calculated attentions values를 저장할 Zero-initialized attentions tensor\n",
        "    attentions = torch.zeros(max_len, 1, len(src_indexes)).to(device)\n",
        "    \n",
        "    # Perform generation\n",
        "    for i in range(max_len):\n",
        "        \n",
        "        # 이전 timestep에서 생성된 단어를 (맨 처음에는 <sos>를) tensor로 변환\n",
        "        prev_trg = torch.LongTensor([trg_indexes[-1]]).to(device)\n",
        "                \n",
        "        with torch.no_grad():\n",
        "            output, hidden, attention = model.decoder(prev_trg, hidden, encoder_outputs)\n",
        "\n",
        "        # 구해진 attention 저장\n",
        "        attentions[i] = attention\n",
        "        # 확률 값이 가장 높아서 선택된 다음 토큰\n",
        "        pred_token = output.argmax(1).item()\n",
        "        trg_indexes.append(pred_token)\n",
        "        \n",
        "        # <eos>가 나올 때까지 반복\n",
        "        if pred_token == trg_field.vocab.stoi['<eos>']:\n",
        "            break\n",
        "    \n",
        "    # Convert the output sentence from indices to tokens\n",
        "    trg_tokens = [trg_field.vocab.itos[i] for i in trg_indexes]\n",
        "    \n",
        "    return trg_tokens[1:], attentions[:len(trg_tokens)-1]"
      ]
    },
    {
      "cell_type": "code",
      "execution_count": 29,
      "metadata": {
        "id": "HSIooSOkBG5-"
      },
      "outputs": [],
      "source": [
        "def calculate_bleu(data, src_field, trg_field, model, device, max_len = 100):\n",
        "    \n",
        "    predictions = []\n",
        "    goldlabels = []\n",
        "    \n",
        "    for d in data:\n",
        "        src = vars(d)['src']\n",
        "        trg = vars(d)['trg']\n",
        "        \n",
        "        pred, __ = translate_sentence(src, src_field, trg_field, model, device, max_len)\n",
        " \n",
        "        # <eos> 제거, 따라서 이제 prediction에는 <sos>, <eos>가 모두 붙어있지 않음\n",
        "        pred = pred[:-1]\n",
        "        \n",
        "        predictions.append(pred)\n",
        "        goldlabels.append([trg])\n",
        "        \n",
        "    return bleu_score(predictions, goldlabels)"
      ]
    },
    {
      "cell_type": "code",
      "execution_count": 30,
      "metadata": {
        "colab": {
          "base_uri": "https://localhost:8080/"
        },
        "id": "fGIwjF6OBG5-",
        "outputId": "d2c4b405-7d93-4c93-b4e9-e00ae34fc764"
      },
      "outputs": [
        {
          "output_type": "execute_result",
          "data": {
            "text/plain": [
              "58"
            ]
          },
          "metadata": {},
          "execution_count": 30
        }
      ],
      "source": [
        "# Calculate the maximum length of all target sentences\n",
        "\n",
        "TRG_MAX_LENGTH = 0\n",
        "\n",
        "for sen in train_data:\n",
        "    temp = len(vars(sen)['trg'])\n",
        "    if temp > TRG_MAX_LENGTH:\n",
        "        TRG_MAX_LENGTH = temp\n",
        "\n",
        "for sen in valid_data:\n",
        "    temp = len(vars(sen)['trg'])\n",
        "    if temp > TRG_MAX_LENGTH:\n",
        "        TRG_MAX_LENGTH = temp\n",
        "        \n",
        "for sen in test_data:\n",
        "    temp = len(vars(sen)['trg'])\n",
        "    if temp > TRG_MAX_LENGTH:\n",
        "        TRG_MAX_LENGTH = temp\n",
        "\n",
        "TRG_MAX_LENGTH"
      ]
    },
    {
      "cell_type": "code",
      "execution_count": null,
      "metadata": {
        "colab": {
          "base_uri": "https://localhost:8080/"
        },
        "id": "He28ztL4BG5_",
        "outputId": "cacf3451-2de5-43cd-d117-d8aca6acfb42"
      },
      "outputs": [
        {
          "output_type": "stream",
          "name": "stdout",
          "text": [
            "BLEU score = 20.24\n"
          ]
        }
      ],
      "source": [
        "# Trial3 results\n",
        "# BLEU score during model evaluation\n",
        "\n",
        "bleu = calculate_bleu(test_data, SRC, TRG, model, device, TRG_MAX_LENGTH)\n",
        "\n",
        "print(f'BLEU score = {bleu * 100:.2f}')"
      ]
    },
    {
      "cell_type": "code",
      "source": [
        "# Trial8 results\n",
        "# BLEU score during model evaluation\n",
        "\n",
        "bleu = calculate_bleu(test_data, SRC, TRG, model, device, TRG_MAX_LENGTH)\n",
        "\n",
        "print(f'BLEU score = {bleu * 100:.2f}')"
      ],
      "metadata": {
        "id": "a5-Rre05A_9N",
        "colab": {
          "base_uri": "https://localhost:8080/"
        },
        "outputId": "ceee5ca7-9ff5-40b0-e85d-a473589bc444"
      },
      "execution_count": 31,
      "outputs": [
        {
          "output_type": "stream",
          "name": "stdout",
          "text": [
            "BLEU score = 21.74\n"
          ]
        }
      ]
    },
    {
      "cell_type": "code",
      "source": [
        "# Trial9 results\n",
        "# BLEU score during model evaluation\n",
        "\n",
        "bleu = calculate_bleu(test_data, SRC, TRG, model, device, TRG_MAX_LENGTH)\n",
        "\n",
        "print(f'BLEU score = {bleu * 100:.2f}')"
      ],
      "metadata": {
        "colab": {
          "base_uri": "https://localhost:8080/"
        },
        "id": "QRTCPX4Brztk",
        "outputId": "328e1c2c-6ef8-4a0b-8dc8-a36bedaedb7d"
      },
      "execution_count": null,
      "outputs": [
        {
          "output_type": "stream",
          "name": "stdout",
          "text": [
            "BLEU score = 25.70\n"
          ]
        }
      ]
    },
    {
      "cell_type": "code",
      "source": [
        "# Trial10 results\n",
        "# BLEU score during model evaluation\n",
        "\n",
        "bleu = calculate_bleu(test_data, SRC, TRG, model, device, TRG_MAX_LENGTH)\n",
        "\n",
        "print(f'BLEU score = {bleu * 100:.2f}')"
      ],
      "metadata": {
        "colab": {
          "base_uri": "https://localhost:8080/"
        },
        "id": "5GRfiFJXMD8O",
        "outputId": "4c919d63-23a1-4edd-9d68-2969893dd49a"
      },
      "execution_count": 40,
      "outputs": [
        {
          "output_type": "stream",
          "name": "stdout",
          "text": [
            "BLEU score = 17.95\n"
          ]
        }
      ]
    },
    {
      "cell_type": "code",
      "source": [
        "# Trial11 results\n",
        "# BLEU score during model evaluation\n",
        "\n",
        "bleu = calculate_bleu(test_data, SRC, TRG, model, device, TRG_MAX_LENGTH)\n",
        "\n",
        "print(f'BLEU score = {bleu * 100:.2f}')"
      ],
      "metadata": {
        "colab": {
          "base_uri": "https://localhost:8080/"
        },
        "id": "ItbdVdEYUszY",
        "outputId": "1d16b0b9-36e2-485b-b370-4afdd9939e00"
      },
      "execution_count": 50,
      "outputs": [
        {
          "output_type": "stream",
          "name": "stdout",
          "text": [
            "BLEU score = 23.19\n"
          ]
        }
      ]
    },
    {
      "cell_type": "markdown",
      "metadata": {
        "id": "K7mBdJVgzXzP"
      },
      "source": [
        "### 7. Inference"
      ]
    },
    {
      "cell_type": "code",
      "execution_count": 32,
      "metadata": {
        "id": "cSGpORK0BG6A"
      },
      "outputs": [],
      "source": [
        "test_sen = tokenize_eng('It will be raining tomorrow.')"
      ]
    },
    {
      "cell_type": "code",
      "execution_count": 33,
      "metadata": {
        "id": "sk5ope_tMvHX"
      },
      "outputs": [],
      "source": [
        "def display_attention(sentence, translation, attention):\n",
        "    \n",
        "    fig = plt.figure(figsize=(10,10))\n",
        "    ax = fig.add_subplot(111)\n",
        "    \n",
        "    attention = attention.squeeze(1).cpu().detach().numpy()\n",
        "    \n",
        "    cax = ax.matshow(attention, cmap='bone')\n",
        "   \n",
        "    ax.tick_params(labelsize=15)\n",
        "    \n",
        "    x_ticks = [''] + ['<sos>'] + [t.lower() for t in sentence] + ['<eos>']\n",
        "    y_ticks = [''] + translation\n",
        "     \n",
        "    ax.set_xticklabels(x_ticks, rotation=45)\n",
        "    ax.set_yticklabels(y_ticks)\n",
        "\n",
        "    ax.xaxis.set_major_locator(ticker.MultipleLocator(1))\n",
        "    ax.yaxis.set_major_locator(ticker.MultipleLocator(1))\n",
        "\n",
        "    plt.show()\n",
        "    plt.close()"
      ]
    },
    {
      "cell_type": "code",
      "execution_count": null,
      "metadata": {
        "id": "I8i2nmN0BG6B",
        "colab": {
          "base_uri": "https://localhost:8080/",
          "height": 836
        },
        "outputId": "2dba3ad6-7dac-4aac-e53f-306fc1945cf2"
      },
      "outputs": [
        {
          "output_type": "stream",
          "name": "stdout",
          "text": [
            "Predicted sentence = Huomenna sataa huomenna sataa.\n",
            "\n",
            "\n"
          ]
        },
        {
          "output_type": "stream",
          "name": "stderr",
          "text": [
            "<ipython-input-36-98e7d903867b>:15: UserWarning: FixedFormatter should only be used together with FixedLocator\n",
            "  ax.set_xticklabels(x_ticks, rotation=45)\n",
            "<ipython-input-36-98e7d903867b>:16: UserWarning: FixedFormatter should only be used together with FixedLocator\n",
            "  ax.set_yticklabels(y_ticks)\n"
          ]
        },
        {
          "output_type": "display_data",
          "data": {
            "text/plain": [
              "<Figure size 1000x1000 with 1 Axes>"
            ],
            "image/png": "[encoded data removed]"
          },
          "metadata": {}
        }
      ],
      "source": [
        "# Trial3 results\n",
        "\n",
        "translation, attention = translate_sentence(test_sen, SRC, TRG, model, device, TRG_MAX_LENGTH)\n",
        "\n",
        "# List 형태로 반환된 translation을 string 형태로 변환\n",
        "separator = ' '\n",
        "\n",
        "predicted = separator.join(translation[:-1])  # <eos> 제외하고 이어붙임\n",
        "predicted = re.sub(r\" ([.!?])\", r\"\\1\", predicted) # . ! ? 앞 공백제거\n",
        "predicted = predicted.capitalize()\n",
        "predicted\n",
        "    \n",
        "print(f'Predicted sentence = {predicted}')\n",
        "print()\n",
        "print()\n",
        "\n",
        "display_attention(test_sen, translation, attention)"
      ]
    },
    {
      "cell_type": "code",
      "source": [
        "# Trial5 results\n",
        "\n",
        "translation, attention = translate_sentence(test_sen, SRC, TRG, model, device, TRG_MAX_LENGTH)\n",
        "\n",
        "# List 형태로 반환된 translation을 string 형태로 변환\n",
        "separator = ' '\n",
        "\n",
        "predicted = separator.join(translation[:-1])  # <eos> 제외하고 이어붙임\n",
        "predicted = re.sub(r\" ([.!?])\", r\"\\1\", predicted) # . ! ? 앞 공백제거\n",
        "predicted = predicted.capitalize()\n",
        "predicted\n",
        "    \n",
        "print(f'Predicted sentence = {predicted}')\n",
        "print()\n",
        "print()\n",
        "\n",
        "display_attention(test_sen, translation, attention)"
      ],
      "metadata": {
        "colab": {
          "base_uri": "https://localhost:8080/",
          "height": 739
        },
        "id": "7V9ESDyTPbvZ",
        "outputId": "ec096c04-8d10-4c96-d9d3-b09df6fdb659"
      },
      "execution_count": null,
      "outputs": [
        {
          "output_type": "stream",
          "name": "stdout",
          "text": [
            "Predicted sentence = Huomenna tulee huomenna.\n",
            "\n",
            "\n"
          ]
        },
        {
          "output_type": "stream",
          "name": "stderr",
          "text": [
            "<ipython-input-36-98e7d903867b>:15: UserWarning: FixedFormatter should only be used together with FixedLocator\n",
            "  ax.set_xticklabels(x_ticks, rotation=45)\n",
            "<ipython-input-36-98e7d903867b>:16: UserWarning: FixedFormatter should only be used together with FixedLocator\n",
            "  ax.set_yticklabels(y_ticks)\n"
          ]
        },
        {
          "output_type": "display_data",
          "data": {
            "text/plain": [
              "<Figure size 1000x1000 with 1 Axes>"
            ],
            "image/png": "[encoded data removed]"
          },
          "metadata": {}
        }
      ]
    },
    {
      "cell_type": "code",
      "source": [
        "# Trial8 results\n",
        "\n",
        "translation, attention = translate_sentence(test_sen, SRC, TRG, model, device, TRG_MAX_LENGTH)\n",
        "\n",
        "# List 형태로 반환된 translation을 string 형태로 변환\n",
        "separator = ' '\n",
        "\n",
        "predicted = separator.join(translation[:-1])  # <eos> 제외하고 이어붙임\n",
        "predicted = re.sub(r\" ([.!?])\", r\"\\1\", predicted) # . ! ? 앞 공백제거\n",
        "predicted = predicted.capitalize()\n",
        "predicted\n",
        "    \n",
        "print(f'Predicted sentence = {predicted}')\n",
        "print()\n",
        "print()\n",
        "\n",
        "display_attention(test_sen, translation, attention)"
      ],
      "metadata": {
        "id": "Q0oXShIoBJ6P",
        "colab": {
          "base_uri": "https://localhost:8080/",
          "height": 836
        },
        "outputId": "053d31ed-6599-42d1-e5e8-9b2e4df9bb6a"
      },
      "execution_count": 34,
      "outputs": [
        {
          "output_type": "stream",
          "name": "stdout",
          "text": [
            "Predicted sentence = Huomenna sataa huomenna sataa.\n",
            "\n",
            "\n"
          ]
        },
        {
          "output_type": "stream",
          "name": "stderr",
          "text": [
            "<ipython-input-33-98e7d903867b>:15: UserWarning: FixedFormatter should only be used together with FixedLocator\n",
            "  ax.set_xticklabels(x_ticks, rotation=45)\n",
            "<ipython-input-33-98e7d903867b>:16: UserWarning: FixedFormatter should only be used together with FixedLocator\n",
            "  ax.set_yticklabels(y_ticks)\n"
          ]
        },
        {
          "output_type": "display_data",
          "data": {
            "text/plain": [
              "<Figure size 1000x1000 with 1 Axes>"
            ],
            "image/png": "[encoded data removed]"
          },
          "metadata": {}
        }
      ]
    },
    {
      "cell_type": "code",
      "source": [
        "# Trial9 results\n",
        "\n",
        "translation, attention = translate_sentence(test_sen, SRC, TRG, model, device, TRG_MAX_LENGTH)\n",
        "\n",
        "# List 형태로 반환된 translation을 string 형태로 변환\n",
        "separator = ' '\n",
        "\n",
        "predicted = separator.join(translation[:-1])  # <eos> 제외하고 이어붙임\n",
        "predicted = re.sub(r\" ([.!?])\", r\"\\1\", predicted) # . ! ? 앞 공백제거\n",
        "predicted = predicted.capitalize()\n",
        "predicted\n",
        "    \n",
        "print(f'Predicted sentence = {predicted}')\n",
        "print()\n",
        "print()\n",
        "\n",
        "display_attention(test_sen, translation, attention)"
      ],
      "metadata": {
        "colab": {
          "base_uri": "https://localhost:8080/",
          "height": 739
        },
        "id": "xm52tGDl7Ss5",
        "outputId": "c455986f-147d-4d10-fc07-9cd86b091758"
      },
      "execution_count": null,
      "outputs": [
        {
          "output_type": "stream",
          "name": "stdout",
          "text": [
            "Predicted sentence = Huomenna sataa huomenna.\n",
            "\n",
            "\n"
          ]
        },
        {
          "output_type": "stream",
          "name": "stderr",
          "text": [
            "<ipython-input-36-98e7d903867b>:15: UserWarning: FixedFormatter should only be used together with FixedLocator\n",
            "  ax.set_xticklabels(x_ticks, rotation=45)\n",
            "<ipython-input-36-98e7d903867b>:16: UserWarning: FixedFormatter should only be used together with FixedLocator\n",
            "  ax.set_yticklabels(y_ticks)\n"
          ]
        },
        {
          "output_type": "display_data",
          "data": {
            "text/plain": [
              "<Figure size 1000x1000 with 1 Axes>"
            ],
            "image/png": "[encoded data removed]"
          },
          "metadata": {}
        }
      ]
    },
    {
      "cell_type": "code",
      "source": [
        "# Trial10 results\n",
        "\n",
        "translation, attention = translate_sentence(test_sen, SRC, TRG, model, device, TRG_MAX_LENGTH)\n",
        "\n",
        "# List 형태로 반환된 translation을 string 형태로 변환\n",
        "separator = ' '\n",
        "\n",
        "predicted = separator.join(translation[:-1])  # <eos> 제외하고 이어붙임\n",
        "predicted = re.sub(r\" ([.!?])\", r\"\\1\", predicted) # . ! ? 앞 공백제거\n",
        "predicted = predicted.capitalize()\n",
        "predicted\n",
        "    \n",
        "print(f'Predicted sentence = {predicted}')\n",
        "print()\n",
        "print()\n",
        "\n",
        "display_attention(test_sen, translation, attention)"
      ],
      "metadata": {
        "colab": {
          "base_uri": "https://localhost:8080/",
          "height": 643
        },
        "id": "tKAsgdiaMJIv",
        "outputId": "0d6bb10a-3aca-45ef-f925-5f489c1950d3"
      },
      "execution_count": 41,
      "outputs": [
        {
          "output_type": "stream",
          "name": "stdout",
          "text": [
            "Predicted sentence = Sade tulee.\n",
            "\n",
            "\n"
          ]
        },
        {
          "output_type": "stream",
          "name": "stderr",
          "text": [
            "<ipython-input-33-98e7d903867b>:15: UserWarning: FixedFormatter should only be used together with FixedLocator\n",
            "  ax.set_xticklabels(x_ticks, rotation=45)\n",
            "<ipython-input-33-98e7d903867b>:16: UserWarning: FixedFormatter should only be used together with FixedLocator\n",
            "  ax.set_yticklabels(y_ticks)\n"
          ]
        },
        {
          "output_type": "display_data",
          "data": {
            "text/plain": [
              "<Figure size 1000x1000 with 1 Axes>"
            ],
            "image/png": "[encoded data removed]"
          },
          "metadata": {}
        }
      ]
    },
    {
      "cell_type": "code",
      "source": [
        "# Trial11 results\n",
        "\n",
        "translation, attention = translate_sentence(test_sen, SRC, TRG, model, device, TRG_MAX_LENGTH)\n",
        "\n",
        "# List 형태로 반환된 translation을 string 형태로 변환\n",
        "separator = ' '\n",
        "\n",
        "predicted = separator.join(translation[:-1])  # <eos> 제외하고 이어붙임\n",
        "predicted = re.sub(r\" ([.!?])\", r\"\\1\", predicted) # . ! ? 앞 공백제거\n",
        "predicted = predicted.capitalize()\n",
        "predicted\n",
        "    \n",
        "print(f'Predicted sentence = {predicted}')\n",
        "print()\n",
        "print()\n",
        "\n",
        "display_attention(test_sen, translation, attention)"
      ],
      "metadata": {
        "colab": {
          "base_uri": "https://localhost:8080/",
          "height": 643
        },
        "id": "YXUk3pS8UyGw",
        "outputId": "78efa17a-25be-426c-f7f0-10f85a4c62d7"
      },
      "execution_count": 51,
      "outputs": [
        {
          "output_type": "stream",
          "name": "stdout",
          "text": [
            "Predicted sentence = Huomenna sataa.\n",
            "\n",
            "\n"
          ]
        },
        {
          "output_type": "stream",
          "name": "stderr",
          "text": [
            "<ipython-input-33-98e7d903867b>:15: UserWarning: FixedFormatter should only be used together with FixedLocator\n",
            "  ax.set_xticklabels(x_ticks, rotation=45)\n",
            "<ipython-input-33-98e7d903867b>:16: UserWarning: FixedFormatter should only be used together with FixedLocator\n",
            "  ax.set_yticklabels(y_ticks)\n"
          ]
        },
        {
          "output_type": "display_data",
          "data": {
            "text/plain": [
              "<Figure size 1000x1000 with 1 Axes>"
            ],
            "image/png": "[encoded data removed]"
          },
          "metadata": {}
        }
      ]
    },
    {
      "cell_type": "markdown",
      "metadata": {
        "id": "3TiOQqxDBG6C"
      },
      "source": [
        "감사합니다...🥹"
      ]
    }
  ],
  "metadata": {
    "accelerator": "GPU",
    "colab": {
      "gpuType": "T4",
      "provenance": []
    },
    "gpuClass": "standard",
    "kernelspec": {
      "display_name": "Python 3 (ipykernel)",
      "language": "python",
      "name": "python3"
    },
    "language_info": {
      "codemirror_mode": {
        "name": "ipython",
        "version": 3
      },
      "file_extension": ".py",
      "mimetype": "text/x-python",
      "name": "python",
      "nbconvert_exporter": "python",
      "pygments_lexer": "ipython3",
      "version": "3.8.3"
    }
  },
  "nbformat": 4,
  "nbformat_minor": 0
}